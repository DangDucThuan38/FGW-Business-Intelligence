{
 "cells": [
  {
   "cell_type": "code",
   "execution_count": 23,
   "metadata": {},
   "outputs": [],
   "source": [
    "employees = [['Jonh Smith', '0899889368', 1500],\n",
    "             ['Marry Simons', '0E54854869', 2500],\n",
    "             ['', '01892142GG', 100],\n",
    "             ['Adam Blackkkkkkkkkkkkkkkkkkk', '0988869689', 1200],\n",
    "             ['Henry Dawnson','0977628282',900],\n",
    "             ['','0986568685',500]\n",
    "             ]\n"
   ]
  },
  {
   "cell_type": "code",
   "execution_count": 9,
   "metadata": {},
   "outputs": [],
   "source": [
    "def clean_employees(employees,fix_name, fix_phone,fix_salary):\n",
    "    for e in employees:\n",
    "        fix_name(e)\n",
    "        fix_phone(e)\n",
    "        fix_salary(e)\n",
    "    "
   ]
  },
  {
   "cell_type": "code",
   "execution_count": 5,
   "metadata": {},
   "outputs": [
    {
     "name": "stdout",
     "output_type": "stream",
     "text": [
      "[['Jonh Smith', '0899889368', 1500], ['Marry Simons', '0E54854869', 2500], ['Jonh Doe', '01892142GG', 100], ['Adam Blackkkkkkkkkkkkkkkkkkk', '0988869689', 1200], ['Henry Dawnson', '0977628282', 900], ['Jonh Doe', '0986568685', 500]]\n"
     ]
    }
   ],
   "source": [
    "def fix_empty_name(e):\n",
    "    if e[0]=='':\n",
    "        e[0]= 'Jonh Doe'\n",
    "def fix_nothing(e):\n",
    "    pass\n",
    "clean_employees(employees, fix_empty_name,fix_nothing,fix_nothing)\n",
    "print(employees)"
   ]
  },
  {
   "cell_type": "code",
   "execution_count": 6,
   "metadata": {},
   "outputs": [
    {
     "name": "stdout",
     "output_type": "stream",
     "text": [
      "[['Jonh Smith', '0899889368', 1500], ['Marry Simons', '0E54854869', 2500], ['Jonh Doe', '01892142GG', 100], ['Adam Blackkkkkkkkkkk', '0988869689', 1200], ['Henry Dawnson', '0977628282', 900], ['Jonh Doe', '0986568685', 500]]\n"
     ]
    }
   ],
   "source": [
    "def fix_tolong_name(e):\n",
    "    if len(e[0]) > 20:\n",
    "        e[0] = e[0][:20]\n",
    "\n",
    "clean_employees(employees, fix_empty_name, fix_tolong_name, fix_nothing)\n",
    "print(employees)\n"
   ]
  },
  {
   "cell_type": "code",
   "execution_count": 8,
   "metadata": {},
   "outputs": [
    {
     "name": "stdout",
     "output_type": "stream",
     "text": [
      "[['Jonh Smith', '0899889368', 1500], ['Marry Simons', '0054854869', 2500], ['Jonh Doe', '0189214200', 100], ['Adam Blackkkkkkkkkkk', '0988869689', 1200], ['Henry Dawnson', '0977628282', 900], ['Jonh Doe', '0986568685', 500]]\n"
     ]
    }
   ],
   "source": [
    "def fix_phone_number(e):\n",
    "    phone = [c if c.isdigit() else '0' for c in e[1]]\n",
    "    e[1] = ''.join(phone)\n",
    "\n",
    "clean_employees(employees, fix_nothing, fix_phone_number, fix_nothing)\n",
    "print(employees)\n"
   ]
  },
  {
   "cell_type": "code",
   "execution_count": 13,
   "metadata": {},
   "outputs": [
    {
     "name": "stdout",
     "output_type": "stream",
     "text": [
      "[['Jonh Smith', '0899889368', 1500], ['Marry Simons', '0054854869', 2000], ['Jonh Doe', '0189214200', 200], ['Adam Blackkkkkkkkkkk', '0988869689', 1200], ['Henry Dawnson', '0977628282', 900], ['Jonh Doe', '0986568685', 500]]\n"
     ]
    }
   ],
   "source": [
    "#e) Valid salary is in range [200, 2000]. \n",
    "# Any invalid salary should change to 200 or 2000 \n",
    "\n",
    "def fix_salary(e):\n",
    "    if e[2]>2000:\n",
    "        e[2]=2000\n",
    "    elif e[2]<200:\n",
    "        e[2]=200\n",
    "clean_employees(employees, fix_nothing, fix_nothing, fix_salary)\n",
    "print(employees)"
   ]
  },
  {
   "cell_type": "code",
   "execution_count": 22,
   "metadata": {},
   "outputs": [
    {
     "name": "stdout",
     "output_type": "stream",
     "text": [
      "[['Jonh Smith', '0899889368', 1500], ['Marry Simons', '0E54854869', 1025.0], ['', '01892142GG', 1025.0], ['Adam Blackkkkkkkkkkkkkkkkkkk', '0988869689', 1200], ['Henry Dawnson', '0977628282', 900], ['', '0986568685', 500]]\n"
     ]
    }
   ],
   "source": [
    "# f) Valid salary is in range [200, 2000].\n",
    "# Any invalid salary should change to mean of valid salary\n",
    "\n",
    "valid_salaries = [e[2] for e in employees if 200 <= e[2] <= 2000]\n",
    "mean = sum(valid_salaries)/len(valid_salaries)\n",
    "\n",
    "def fix_salary_by_meam(e):\n",
    "    if e[2] < 200 or e[2] > 2000:\n",
    "        e[2] = mean\n",
    "clean_employees(employees, fix_nothing, fix_nothing, fix_salary_by_meam)\n",
    "print(employees)\n"
   ]
  },
  {
   "cell_type": "code",
   "execution_count": 24,
   "metadata": {},
   "outputs": [
    {
     "name": "stdout",
     "output_type": "stream",
     "text": [
      "[['Jonh Smith', '0899889368', 1500], ['Marry Simons', '0054854869', 2500], ['', '0189214222', 100], ['Adam Blackkkkkkkkkkkkkkkkkkk', '0988869689', 1200], ['Henry Dawnson', '0977628282', 900], ['', '0986568685', 500]]\n"
     ]
    }
   ],
   "source": [
    "# d) Phone must be digits, any non-digit should change to a previous digit (or 0 if not)\n",
    "def fix_phone_last_digit(e):\n",
    "    phone = ['0']+[c for c in e[1]]\n",
    "    for i in range(len(phone)):\n",
    "        if not phone[i].isdigit():\n",
    "            phone[i] = phone[i-1]\n",
    "    e[1] = ''.join(phone[1:])\n",
    "\n",
    "\n",
    "clean_employees(employees, fix_nothing, fix_phone_last_digit, fix_nothing)\n",
    "print(employees)\n"
   ]
  }
 ],
 "metadata": {
  "kernelspec": {
   "display_name": "Python 3",
   "language": "python",
   "name": "python3"
  },
  "language_info": {
   "codemirror_mode": {
    "name": "ipython",
    "version": 3
   },
   "file_extension": ".py",
   "mimetype": "text/x-python",
   "name": "python",
   "nbconvert_exporter": "python",
   "pygments_lexer": "ipython3",
   "version": "3.11.1"
  },
  "orig_nbformat": 4,
  "vscode": {
   "interpreter": {
    "hash": "5238573367df39f7286bb46f9ff5f08f63a01a80960060ce41e3c79b190280fa"
   }
  }
 },
 "nbformat": 4,
 "nbformat_minor": 2
}
