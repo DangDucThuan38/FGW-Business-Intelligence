{
 "cells": [
  {
   "cell_type": "code",
   "execution_count": 3,
   "metadata": {},
   "outputs": [
    {
     "name": "stdout",
     "output_type": "stream",
     "text": [
      "[1, 2, 3, 4, 5]\n",
      "1\n",
      "[1, 2, 150, 4, 5]\n"
     ]
    }
   ],
   "source": [
    "# declare a list\n",
    "a = [1, 2, 3, 4, 5]\n",
    "print(a)\n",
    "print(a[0])\n",
    "a[2] = 150\n",
    "print(a)"
   ]
  },
  {
   "cell_type": "code",
   "execution_count": 13,
   "metadata": {},
   "outputs": [
    {
     "name": "stdout",
     "output_type": "stream",
     "text": [
      "[1, 2, 'a', 'b', 'hello', 3.22, True]\n",
      "hello hello\n"
     ]
    }
   ],
   "source": [
    "a = [1,2,'a','b','hello',3.22,True]\n",
    "print(a)\n",
    "print(a[4],a[-3]) #Negative indexing: -n, -n+1....-1"
   ]
  },
  {
   "cell_type": "code",
   "execution_count": 20,
   "metadata": {},
   "outputs": [
    {
     "name": "stdout",
     "output_type": "stream",
     "text": [
      "['a', 'b', 'hello']\n",
      "[2, 'a', 'b', 'hello', 3.22]\n",
      "[2, 'b', 3.22] [2, 'b', 3.22]\n",
      "[1, 'a', 'hello'] [1, 'a', 'hello']\n"
     ]
    }
   ],
   "source": [
    "# Slicing : a[start:end:step], extract a sub-list from a list\n",
    "\n",
    "b = a[2:5]\n",
    "print(b)\n",
    "c = a[1:6]\n",
    "print(c)\n",
    "d = a[1:7:2]\n",
    "d2 = a[1::2]\n",
    "print(d, d2)\n",
    "\n",
    "\n",
    "e = a[0:5:2]\n",
    "e2 = a[:5:2]\n",
    "print(e,e2)\n"
   ]
  },
  {
   "cell_type": "code",
   "execution_count": 21,
   "metadata": {},
   "outputs": [
    {
     "name": "stdout",
     "output_type": "stream",
     "text": [
      "[True, 3.22, 'hello', 'b', 'a', 2, 1]\n"
     ]
    }
   ],
   "source": [
    "# reverse a list\n",
    "print(a[::-1])\n"
   ]
  },
  {
   "cell_type": "code",
   "execution_count": 23,
   "metadata": {},
   "outputs": [
    {
     "name": "stdout",
     "output_type": "stream",
     "text": [
      "[1, 2, 3, 4, 5, 6]\n",
      "[1, 2, 3, 1, 2, 3, 1, 2, 3]\n"
     ]
    }
   ],
   "source": [
    "#List Operator\n",
    "a = [1,2,3]\n",
    "b = [4,5,6]\n",
    "c = a+b\n",
    "print(c)\n",
    "c = a*3\n",
    "print(c)\n",
    "\n",
    "#Chỉ cho phép cộng hai list và một list nhân với một số\n",
    "#Không cho phép hai list nhân với nhau và trừ hai list với nhau"
   ]
  },
  {
   "cell_type": "code",
   "execution_count": 25,
   "metadata": {},
   "outputs": [
    {
     "name": "stdout",
     "output_type": "stream",
     "text": [
      "(1, 2, 3) 1 2 (2, 3)\n",
      "(1, 2, 3, 1, 2, 3)\n"
     ]
    },
    {
     "ename": "TypeError",
     "evalue": "'tuple' object does not support item assignment",
     "output_type": "error",
     "traceback": [
      "\u001b[1;31m---------------------------------------------------------------------------\u001b[0m",
      "\u001b[1;31mTypeError\u001b[0m                                 Traceback (most recent call last)",
      "Cell \u001b[1;32mIn[25], line 6\u001b[0m\n\u001b[0;32m      4\u001b[0m b \u001b[39m=\u001b[39m a\u001b[39m*\u001b[39m\u001b[39m2\u001b[39m\n\u001b[0;32m      5\u001b[0m \u001b[39mprint\u001b[39m(b)\n\u001b[1;32m----> 6\u001b[0m a[\u001b[39m0\u001b[39;49m] \u001b[39m=\u001b[39m \u001b[39m'\u001b[39m\u001b[39mhello\u001b[39m\u001b[39m'\u001b[39m  \u001b[39m# error -- tuple không cho phép gán phần tử\u001b[39;00m\n",
      "\u001b[1;31mTypeError\u001b[0m: 'tuple' object does not support item assignment"
     ]
    }
   ],
   "source": [
    "# tuple is similar to list but it is immutable\n",
    "a = (1, 2, 3)\n",
    "print(a, a[0], a[1], a[1:])\n",
    "b = a*2\n",
    "print(b)\n",
    "a[0] = 'hello'  # error -- tuple không cho phép gán phần tử\n"
   ]
  },
  {
   "cell_type": "code",
   "execution_count": 26,
   "metadata": {},
   "outputs": [
    {
     "name": "stdout",
     "output_type": "stream",
     "text": [
      "[]\n"
     ]
    }
   ],
   "source": [
    "# empty a list\n",
    "a = [1, 2, 3]\n",
    "a.clear() # a is empty itself\n",
    "print(a)"
   ]
  },
  {
   "cell_type": "code",
   "execution_count": 27,
   "metadata": {},
   "outputs": [
    {
     "name": "stdout",
     "output_type": "stream",
     "text": [
      "[]\n"
     ]
    }
   ],
   "source": [
    "a = [1, 2, 3]\n",
    "a = [] # a is a new empty list\n",
    "print(a)"
   ]
  },
  {
   "cell_type": "code",
   "execution_count": 29,
   "metadata": {},
   "outputs": [
    {
     "name": "stdout",
     "output_type": "stream",
     "text": [
      "[1, 2, 3, 4, 5]\n",
      "[3, 4, 5]\n",
      "[3, 4]\n"
     ]
    }
   ],
   "source": [
    "a = [1,2,3,4,5]\n",
    "print(a)\n",
    "b = a[-3:]\n",
    "print(b)\n",
    "c = a[-3:4]\n",
    "print(c)"
   ]
  },
  {
   "cell_type": "code",
   "execution_count": 32,
   "metadata": {},
   "outputs": [
    {
     "name": "stdout",
     "output_type": "stream",
     "text": [
      "5\n",
      "100 22\n",
      "[43, 22, 56, 88, 98, 100]\n",
      "[22, 43, 56, 88, 98, 100]\n",
      "[22, 43, 56, 88, 98, 100]\n"
     ]
    }
   ],
   "source": [
    "#some functions for list\n",
    "# get length of a list\n",
    "a = [1,2,3,4,5]\n",
    "print(len(a))\n",
    "#Min, max of list\n",
    "a = [43,22,56,88,98,100]\n",
    "print(max(a),min(a))\n",
    "\n",
    "# Sắp xếp a trên list khác\n",
    "b = sorted(a)\n",
    "print(a)\n",
    "print(b)\n",
    "#Sắp xếp trên chính list đó\n",
    "a.sort()\n",
    "print(a)"
   ]
  },
  {
   "cell_type": "code",
   "execution_count": 40,
   "metadata": {},
   "outputs": [
    {
     "name": "stdout",
     "output_type": "stream",
     "text": [
      "[52, 20, 67, 12, 83, 50, 77, 29, 70, 54]\n"
     ]
    }
   ],
   "source": [
    "# Create a list using random number\n",
    "\n",
    "import random as rd\n",
    "a = rd.sample(range(100), 10)\n",
    "print(a)"
   ]
  },
  {
   "cell_type": "code",
   "execution_count": 48,
   "metadata": {},
   "outputs": [
    {
     "name": "stdout",
     "output_type": "stream",
     "text": [
      "Mảng ban đầu [52, 20, 67, 12, 83, 50, 77, 29, 70, 54]\n",
      "Nửa đầu của mảng [52, 20, 67, 12, 83]\n",
      "Nửa sau của mảng [50, 77, 29, 70, 54]\n",
      "[67, 12, 83, 50, 77, 29]\n",
      "Phần tử đầu và cuối của mảng bị bỏ [52, 20, 70, 54]\n"
     ]
    }
   ],
   "source": [
    "# a\n",
    "print('Mảng ban đầu',a)\n",
    "n = len(a) // 2\n",
    "first = a[:n]\n",
    "second = a[n:]\n",
    "print('Nửa đầu của mảng',first)\n",
    "print('Nửa sau của mảng',second)\n",
    "# b\n",
    "n = int(input('Enter n: '))\n",
    "print(a[n:-n])\n",
    "# c\n",
    "c = a[:n] + a[-n:]\n",
    "print(c)\n",
    "#d\n",
    "# Thì b sẽ print [] and c sẽ print a[]\n"
   ]
  },
  {
   "cell_type": "code",
   "execution_count": 49,
   "metadata": {},
   "outputs": [
    {
     "ename": "IndexError",
     "evalue": "list index out of range",
     "output_type": "error",
     "traceback": [
      "\u001b[1;31m---------------------------------------------------------------------------\u001b[0m",
      "\u001b[1;31mIndexError\u001b[0m                                Traceback (most recent call last)",
      "Cell \u001b[1;32mIn[49], line 2\u001b[0m\n\u001b[0;32m      1\u001b[0m n \u001b[39m=\u001b[39m \u001b[39mint\u001b[39m(\u001b[39minput\u001b[39m(\u001b[39m'\u001b[39m\u001b[39mEnter n: \u001b[39m\u001b[39m'\u001b[39m))\n\u001b[1;32m----> 2\u001b[0m \u001b[39mprint\u001b[39m(a[n])\n",
      "\u001b[1;31mIndexError\u001b[0m: list index out of range"
     ]
    }
   ],
   "source": [
    "n = int(input('Enter n: '))\n",
    "print(a[n])"
   ]
  },
  {
   "cell_type": "code",
   "execution_count": 50,
   "metadata": {},
   "outputs": [
    {
     "name": "stdout",
     "output_type": "stream",
     "text": [
      "[[1, 2, 3, 4], [5, 6, 7, 8], [9, 10, 11, 12]]\n"
     ]
    }
   ],
   "source": [
    "# create a list  3*4\n",
    "a=[[1,2,3,4],\n",
    "   [5,6,7,8],\n",
    "   [9,10,11,12]]\n",
    "print(a)"
   ]
  },
  {
   "cell_type": "code",
   "execution_count": 51,
   "metadata": {},
   "outputs": [],
   "source": [
    "def print_matrix(m):\n",
    "    for row in m:\n",
    "        print(row)"
   ]
  },
  {
   "cell_type": "code",
   "execution_count": 52,
   "metadata": {},
   "outputs": [
    {
     "name": "stdout",
     "output_type": "stream",
     "text": [
      "[1, 2, 3, 4]\n",
      "[5, 6, 7, 8]\n",
      "[9, 10, 11, 12]\n"
     ]
    }
   ],
   "source": [
    "print_matrix(a)"
   ]
  },
  {
   "cell_type": "code",
   "execution_count": 56,
   "metadata": {},
   "outputs": [
    {
     "name": "stdout",
     "output_type": "stream",
     "text": [
      "[5, 6, 7, 8]\n",
      "[5, 6, 7, 8]\n",
      "[9, 10, 11, 12]\n"
     ]
    }
   ],
   "source": [
    "print(a[1])\n",
    "print_matrix(a[1:])"
   ]
  }
 ],
 "metadata": {
  "kernelspec": {
   "display_name": "Python 3",
   "language": "python",
   "name": "python3"
  },
  "language_info": {
   "codemirror_mode": {
    "name": "ipython",
    "version": 3
   },
   "file_extension": ".py",
   "mimetype": "text/x-python",
   "name": "python",
   "nbconvert_exporter": "python",
   "pygments_lexer": "ipython3",
   "version": "3.11.1 (tags/v3.11.1:a7a450f, Dec  6 2022, 19:58:39) [MSC v.1934 64 bit (AMD64)]"
  },
  "orig_nbformat": 4,
  "vscode": {
   "interpreter": {
    "hash": "5238573367df39f7286bb46f9ff5f08f63a01a80960060ce41e3c79b190280fa"
   }
  }
 },
 "nbformat": 4,
 "nbformat_minor": 2
}
