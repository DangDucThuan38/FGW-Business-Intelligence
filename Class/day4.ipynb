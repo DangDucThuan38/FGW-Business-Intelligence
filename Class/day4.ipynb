{
 "cells": [
  {
   "cell_type": "code",
   "execution_count": 7,
   "metadata": {},
   "outputs": [
    {
     "name": "stdout",
     "output_type": "stream",
     "text": [
      "[ 0.          2.65306122  7.25490196 11.8        13.79310345 20.85106383\n",
      " 17.38461538]\n",
      "[ 0.          2.65306122  7.25490196 11.8        13.79310345 20.85106383\n",
      " 17.38461538]\n"
     ]
    }
   ],
   "source": [
    "# pip install numpy\n",
    "import numpy as np\n",
    "\n",
    "y = np.array([0., 1.3, 5., 10.9, 18.9, 28.7, 40.])\n",
    "t = np.array([0., 0.49, 1., 1.5, 2.08, 2.55, 3.2])\n",
    "v = np.zeros(7)\n",
    "\n",
    "#Cách 1\n",
    "for i in range(1,7):\n",
    "    v[i] =  (y[i] - y[i-1])/(t[i] - t[i-1])\n",
    "print(v)\n",
    "\n",
    "# Cách 2\n",
    "v[1:] = (y[1:] - y[:-1]) / (t[1:] - t[:-1])\n",
    "print(v)"
   ]
  },
  {
   "cell_type": "code",
   "execution_count": 9,
   "metadata": {},
   "outputs": [
    {
     "name": "stdout",
     "output_type": "stream",
     "text": [
      "[1 2 3 4 5 6] (6,)\n",
      "[[1 2 3]\n",
      " [4 5 6]] (2, 3)\n"
     ]
    }
   ],
   "source": [
    "# Mảng 2 chiều(2D arrays)\n",
    "a = np.array([1, 2, 3, 4, 5, 6])\n",
    "print(a, a.shape)\n",
    "\n",
    "b = np.reshape(a, (2, 3))  # Convert 1D array to 2D array 2*3\n",
    "print(b, b.shape)\n"
   ]
  },
  {
   "cell_type": "code",
   "execution_count": 12,
   "metadata": {},
   "outputs": [
    {
     "name": "stdout",
     "output_type": "stream",
     "text": [
      "[[0 0 0]\n",
      " [0 0 0]]\n",
      "[[0.  0.2 0.4]\n",
      " [0.6 0.8 1. ]]\n"
     ]
    }
   ],
   "source": [
    "a = np.zeros((2, 3), dtype=int)\n",
    "print(a)\n",
    "\n",
    "# Return 6 evenly spaced numbers over the interval [0, 1]\n",
    "a = np.linspace(0, 1, 6)\n",
    "b = np.reshape(a, (2, 3))\n",
    "print(b)\n"
   ]
  },
  {
   "cell_type": "code",
   "execution_count": 14,
   "metadata": {},
   "outputs": [
    {
     "name": "stdout",
     "output_type": "stream",
     "text": [
      "[[45 68 44 19]\n",
      " [16 14 93 46]\n",
      " [38 47 28 96]\n",
      " [77 54 87 46]]\n",
      "93\n"
     ]
    }
   ],
   "source": [
    "a = np.random.randint(10, 100, (4, 4))\n",
    "print(a)\n"
   ]
  },
  {
   "cell_type": "code",
   "execution_count": 16,
   "metadata": {},
   "outputs": [
    {
     "name": "stdout",
     "output_type": "stream",
     "text": [
      "93 93\n",
      "[[16 14 93 46]\n",
      " [38 47 28 96]]\n",
      "[[68 44]\n",
      " [14 93]]\n"
     ]
    }
   ],
   "source": [
    "print(a[1][2], a[1, 2])\n",
    "print(a[1:3, :])\n",
    "print(a[:2, 1:3])\n"
   ]
  },
  {
   "cell_type": "code",
   "execution_count": 17,
   "metadata": {},
   "outputs": [
    {
     "name": "stdout",
     "output_type": "stream",
     "text": [
      "[[421 531 127 543 928 593]\n",
      " [227 202 104 931 728 730]\n",
      " [839 509  95 320 375 377]\n",
      " [366 900 799 688 213 923]\n",
      " [847 636 873 157 296 989]\n",
      " [868  20 244 304 537 716]]\n"
     ]
    }
   ],
   "source": [
    "a = np.random.randint(1, 1000, (6, 6))\n",
    "print(a)"
   ]
  },
  {
   "cell_type": "code",
   "execution_count": 30,
   "metadata": {},
   "outputs": [
    {
     "name": "stdout",
     "output_type": "stream",
     "text": [
      "[[421]\n",
      " [227]\n",
      " [839]\n",
      " [366]\n",
      " [847]\n",
      " [868]]\n",
      "----------------\n",
      "[[104 931 728]\n",
      " [ 95 320 375]\n",
      " [799 688 213]]\n",
      "----------\n",
      "[[543 928 593]\n",
      " [931 728 730]]\n",
      "---------\n",
      "[[688 213 923]\n",
      " [157 296 989]\n",
      " [304 537 716]]\n"
     ]
    }
   ],
   "source": [
    "print(a[:,:1])\n",
    "print('----------------')\n",
    "print(a[1:4,2:5])\n",
    "print('----------')\n",
    "print(a[:2,3:])\n",
    "print('---------')\n",
    "print(a[3:,3:])"
   ]
  },
  {
   "cell_type": "code",
   "execution_count": 35,
   "metadata": {},
   "outputs": [
    {
     "name": "stdout",
     "output_type": "stream",
     "text": [
      "[[  0   0   0   0   0   0]\n",
      " [227 202 104 931 728 730]\n",
      " [839 509  95   0   0 377]\n",
      " [366 900 799   0   0 923]\n",
      " [847 636 873 157 296 989]\n",
      " [868  20 244 304 537 716]]\n",
      "-------------------------------\n",
      "[[  0   0   0   0   0   0]\n",
      " [227 202 104 931 728 730]\n",
      " [839 509  95   0   0 377]\n",
      " [366 900 799   0   0 923]\n",
      " [847 636 873 157 296 989]\n",
      " [868  20 244 304 537 716]]\n"
     ]
    }
   ],
   "source": [
    "a[0] = 0\n",
    "print(a)\n",
    "print('-------------------------------')\n",
    "a[2:4,3:5] = 0\n",
    "print(a)\n"
   ]
  },
  {
   "cell_type": "code",
   "execution_count": 46,
   "metadata": {},
   "outputs": [
    {
     "name": "stdout",
     "output_type": "stream",
     "text": [
      "[[1. 1. 1. 1. 1. 1. 1. 1.]\n",
      " [1. 0. 0. 0. 0. 0. 0. 1.]\n",
      " [1. 0. 0. 0. 0. 0. 0. 1.]\n",
      " [1. 0. 0. 0. 0. 0. 0. 1.]\n",
      " [1. 0. 0. 0. 0. 0. 0. 1.]\n",
      " [1. 0. 0. 0. 0. 0. 0. 1.]\n",
      " [1. 0. 0. 0. 0. 0. 0. 1.]\n",
      " [1. 1. 1. 1. 1. 1. 1. 1.]]\n"
     ]
    }
   ],
   "source": [
    "# Exercise\n",
    "# Create an 8 × 8 array with ones on all the edges and zeros everywhere else\n",
    "a = np.ones((8, 8))\n",
    "a[1:-1,1:-1]=0\n",
    "print(a)"
   ]
  },
  {
   "cell_type": "code",
   "execution_count": 48,
   "metadata": {},
   "outputs": [
    {
     "name": "stdout",
     "output_type": "stream",
     "text": [
      "[[1 0 1 0 1 0 1 0]\n",
      " [0 1 0 1 0 1 0 1]\n",
      " [1 0 1 0 1 0 1 0]\n",
      " [0 1 0 1 0 1 0 1]\n",
      " [1 0 1 0 1 0 1 0]\n",
      " [0 1 0 1 0 1 0 1]\n",
      " [1 0 1 0 1 0 1 0]\n",
      " [0 1 0 1 0 1 0 1]]\n"
     ]
    }
   ],
   "source": [
    "# Create an 8 × 8 array of integers with a checkerboard pattern of ones and zeros.\n",
    "a = np.zeros((8, 8), dtype=int)\n",
    "a[::2, ::2] = 1\n",
    "a[1::2, 1::2] = 1\n",
    "print(a)\n"
   ]
  },
  {
   "cell_type": "code",
   "execution_count": 51,
   "metadata": {},
   "outputs": [
    {
     "name": "stdout",
     "output_type": "stream",
     "text": [
      "[[ 51 -97 -34 -19 -20 -74  24 -74]\n",
      " [-23  24 -31 -10  78 -82 -62  78]\n",
      " [-82 -79 -83  54 -79  12  54 -65]\n",
      " [ 63 -17  57 -67 -52  96  27 -37]\n",
      " [ 15 -26  18  45  60 -55 -41  21]\n",
      " [-95  60  15  54 -85 -61 -82 -79]\n",
      " [ 69  57  87 -56 -83  96 -83  12]\n",
      " [ 45 -98 -32  54 -95 -44  93 -76]]\n"
     ]
    }
   ],
   "source": [
    "# Create an 8 x 8 array of random integers (0, 99), make all the numbers not divisible by 3 negative.\n",
    "a = np.random.randint(10, 99, (8, 8))\n",
    "a[a % 3 != 0] *= -1\n",
    "print(a)\n"
   ]
  },
  {
   "cell_type": "code",
   "execution_count": 58,
   "metadata": {},
   "outputs": [
    {
     "name": "stdout",
     "output_type": "stream",
     "text": [
      "[[ 51 -97 -34 -19]\n",
      " [-23  24 -31 -10]\n",
      " [-82 -79 -83  54]\n",
      " [ 63 -17  57 -67]]\n",
      "-------------\n",
      "[[ 60 -55 -41  21]\n",
      " [-85 -61 -82 -79]\n",
      " [-83  96 -83  12]\n",
      " [-95 -44  93 -76]]\n",
      "---------------\n"
     ]
    }
   ],
   "source": [
    "b = a[:4, :4]\n",
    "print(b)\n",
    "print('-------------')\n",
    "print(a[4:, 4:])\n",
    "print('---------------')\n"
   ]
  },
  {
   "cell_type": "code",
   "execution_count": 59,
   "metadata": {},
   "outputs": [
    {
     "name": "stdout",
     "output_type": "stream",
     "text": [
      "16 (4, 4) -18.3125 53.088038612760975\n"
     ]
    }
   ],
   "source": [
    "print(b.size, b.shape, np.mean(b), np.std(b))"
   ]
  }
 ],
 "metadata": {
  "kernelspec": {
   "display_name": "Python 3",
   "language": "python",
   "name": "python3"
  },
  "language_info": {
   "codemirror_mode": {
    "name": "ipython",
    "version": 3
   },
   "file_extension": ".py",
   "mimetype": "text/x-python",
   "name": "python",
   "nbconvert_exporter": "python",
   "pygments_lexer": "ipython3",
   "version": "3.11.1 (tags/v3.11.1:a7a450f, Dec  6 2022, 19:58:39) [MSC v.1934 64 bit (AMD64)]"
  },
  "orig_nbformat": 4,
  "vscode": {
   "interpreter": {
    "hash": "8a5edab282632443219e051e4ade2d1d5bbc671c781051bf1437897cbdfea0f1"
   }
  }
 },
 "nbformat": 4,
 "nbformat_minor": 2
}
