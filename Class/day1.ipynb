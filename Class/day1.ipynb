{
 "cells": [
  {
   "cell_type": "code",
   "execution_count": 1,
   "metadata": {},
   "outputs": [],
   "source": [
    "# python artihmetic operators: +, -, *, /, //, %, **\n",
    "a = int(input('Enter a: '))\n",
    "b = int(input('Enter b: '))"
   ]
  },
  {
   "cell_type": "code",
   "execution_count": 2,
   "metadata": {},
   "outputs": [
    {
     "name": "stdout",
     "output_type": "stream",
     "text": [
      " 5 + 10 =  15\n",
      " 5 - 10 =  -5\n",
      " 5 * 10 =  50\n",
      " 5 / 10 = 0.5\n",
      " 5 //10 =   0\n",
      " 5 % 10 =   5\n",
      " 5 **10 = 9765625\n"
     ]
    }
   ],
   "source": [
    "print(f'{a:2} + {b:2} = {a + b:3}')\n",
    "print('{:2} - {:2} = {:3}'.format(a, b, a - b))\n",
    "print(f'{a:2} * {b:2} = {a * b:3}')\n",
    "print(f'{a:2} / {b:2} = {a / b:3.1f}')\n",
    "print(f'{a:2} //{b:2} = {a // b:3}')\n",
    "print(f'{a:2} % {b:2} = {a % b:3}')\n",
    "print(f'{a:2} **{b:2} = {a ** b:3}')"
   ]
  },
  {
   "cell_type": "code",
   "execution_count": 3,
   "metadata": {},
   "outputs": [
    {
     "name": "stdout",
     "output_type": "stream",
     "text": [
      "|hello world         |\n",
      "|         hello world|\n",
      "|    hello world     |\n"
     ]
    }
   ],
   "source": [
    "s = 'hello world'\n",
    "print(f'|{s:<20}|') # print s left justified in a field of width 20\n",
    "print(f'|{s:>20}|') # print s right justified in a field of width 20\n",
    "print(f'|{s:^20}|') # print s centered in a field of width 20"
   ]
  },
  {
   "cell_type": "code",
   "execution_count": 4,
   "metadata": {},
   "outputs": [
    {
     "name": "stdout",
     "output_type": "stream",
     "text": [
      "a = 5, b = 10\n",
      "Max = 10\n"
     ]
    }
   ],
   "source": [
    "# if - else\n",
    "a = int(input('Enter a: '))\n",
    "b = int(input('Enter b: '))\n",
    "print(f'a = {a}, b = {b}')\n",
    "if a > b:\n",
    "    m = a\n",
    "else:\n",
    "    m = b\n",
    "print('Max =', m)"
   ]
  },
  {
   "cell_type": "code",
   "execution_count": 5,
   "metadata": {},
   "outputs": [
    {
     "name": "stdout",
     "output_type": "stream",
     "text": [
      "Max = 10\n"
     ]
    }
   ],
   "source": [
    "print('Max =', a if a > b else b)"
   ]
  },
  {
   "cell_type": "code",
   "execution_count": 6,
   "metadata": {},
   "outputs": [
    {
     "name": "stdout",
     "output_type": "stream",
     "text": [
      "Math grade: 9.0, English grade: 9.0, Science grade: 8.0\n",
      "Average = 8.67\n",
      "Distinction\n"
     ]
    }
   ],
   "source": [
    "math = float(input('Enter math grade: '))\n",
    "english = float(input('Enter english grade: '))\n",
    "science = float(input('Enter science grade: '))\n",
    "print(f'Math grade: {math}, English grade: {english}, Science grade: {science}')\n",
    "avg = (math + english + science) / 3\n",
    "print(f'Average = {avg:.2f}')\n",
    "if avg >= 8.0:\n",
    "    print('Distinction')\n",
    "elif avg >= 6.5:\n",
    "    print('Merit')\n",
    "elif avg >= 4.0:\n",
    "    print('Pass')\n",
    "else:\n",
    "    print('Fail')"
   ]
  },
  {
   "cell_type": "code",
   "execution_count": 7,
   "metadata": {},
   "outputs": [
    {
     "name": "stdout",
     "output_type": "stream",
     "text": [
      "Distinction\n"
     ]
    }
   ],
   "source": [
    "print('Distinction' if avg >= 8.0 else 'Merit' if avg >= 6.5 else 'Pass' if avg >= 4.0 else 'Fail')"
   ]
  },
  {
   "cell_type": "code",
   "execution_count": 8,
   "metadata": {},
   "outputs": [
    {
     "name": "stdout",
     "output_type": "stream",
     "text": [
      "1 2 3 4 5 6 7 8 9 10 "
     ]
    }
   ],
   "source": [
    "i = 1\n",
    "while i <= 10:\n",
    "    print(i, end=' ')\n",
    "    i += 1"
   ]
  },
  {
   "cell_type": "code",
   "execution_count": 9,
   "metadata": {},
   "outputs": [
    {
     "name": "stdout",
     "output_type": "stream",
     "text": [
      "1 2 3 4 5 6 7 8 9 10 "
     ]
    }
   ],
   "source": [
    "for i in range(1, 11):\n",
    "    print(i, end=' ')"
   ]
  },
  {
   "cell_type": "code",
   "execution_count": 10,
   "metadata": {},
   "outputs": [
    {
     "name": "stdout",
     "output_type": "stream",
     "text": [
      "5 x  1 =  5\n",
      "5 x  2 = 10\n",
      "5 x  3 = 15\n",
      "5 x  4 = 20\n",
      "5 x  5 = 25\n",
      "5 x  6 = 30\n",
      "5 x  7 = 35\n",
      "5 x  8 = 40\n",
      "5 x  9 = 45\n",
      "5 x 10 = 50\n"
     ]
    }
   ],
   "source": [
    "# print table of multiplication of a number\n",
    "n = int(input('Enter n: '))\n",
    "for i in range(1, 11):\n",
    "    print(f'{n:<2}x {i:2} ={n * i:3}')"
   ]
  },
  {
   "cell_type": "code",
   "execution_count": 11,
   "metadata": {},
   "outputs": [],
   "source": [
    "movie_name = input('Enter movie name: ')\n",
    "adult_price = float(input('Enter adult price: '))\n",
    "child_price = float(input('Enter child price: '))\n",
    "adult_tickets = int(input('Enter number of adult tickets: '))\n",
    "child_tickets = int(input('Enter number of child tickets: '))\n",
    "percent_donate = int(input('Enter percent to donate: '))"
   ]
  },
  {
   "cell_type": "code",
   "execution_count": 12,
   "metadata": {},
   "outputs": [],
   "source": [
    "total_tickets = adult_tickets + child_tickets\n",
    "gross_amount = adult_tickets * adult_price + child_tickets * child_price\n",
    "donation = gross_amount * percent_donate / 100\n",
    "net_amount = gross_amount - donation"
   ]
  },
  {
   "cell_type": "code",
   "execution_count": 13,
   "metadata": {},
   "outputs": [
    {
     "name": "stdout",
     "output_type": "stream",
     "text": [
      "-*-*-*-*-*-*-*-*-*-*-*-*-*-*-*-*-*-*-*-*-*-*-*-*-*-*-*-*-*-*\n",
      "Movie name........................                 Nha Ba Nu\n",
      "Number of tickets sold............                         5\n",
      "Gross amount......................                   $600.00\n",
      "Percent donated...................                       10%\n",
      "Amount donated....................                    $60.00\n",
      "Net amount........................                   $540.00\n"
     ]
    }
   ],
   "source": [
    "\n",
    "print('-*' * 30)\n",
    "print('{:<35}{:>25}'.format('Movie name........................', movie_name))\n",
    "print('{:<35}{:>25}'.format('Number of tickets sold............', total_tickets))\n",
    "print('{:<35}{:>25}'.format('Gross amount......................', f'${gross_amount:.2f}'))\n",
    "print('{:<35}{:>25}'.format('Percent donated...................', f'{percent_donate}%'))\n",
    "print('{:<35}{:>25}'.format('Amount donated....................', f'${donation:.2f}'))\n",
    "print('{:<35}{:>25}'.format('Net amount........................', f'${net_amount:.2f}'))"
   ]
  }
 ],
 "metadata": {
  "kernelspec": {
   "display_name": "Python 3",
   "language": "python",
   "name": "python3"
  },
  "language_info": {
   "codemirror_mode": {
    "name": "ipython",
    "version": 3
   },
   "file_extension": ".py",
   "mimetype": "text/x-python",
   "name": "python",
   "nbconvert_exporter": "python",
   "pygments_lexer": "ipython3",
   "version": "3.11.1"
  },
  "orig_nbformat": 4,
  "vscode": {
   "interpreter": {
    "hash": "5238573367df39f7286bb46f9ff5f08f63a01a80960060ce41e3c79b190280fa"
   }
  }
 },
 "nbformat": 4,
 "nbformat_minor": 2
}
