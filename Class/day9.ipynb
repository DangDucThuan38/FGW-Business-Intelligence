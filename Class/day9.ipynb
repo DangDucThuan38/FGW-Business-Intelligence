{
 "cells": [
  {
   "cell_type": "code",
   "execution_count": 7,
   "metadata": {},
   "outputs": [
    {
     "name": "stdout",
     "output_type": "stream",
     "text": [
      "[79 89 66 19 17 74 77 86 17 73 21 87 14 30  2 51 37 66 29  7]\n"
     ]
    }
   ],
   "source": [
    "import numpy as np\n",
    "numbers = np.random.randint(1,100,20)\n",
    "print(numbers)\n"
   ]
  },
  {
   "cell_type": "code",
   "execution_count": 8,
   "metadata": {},
   "outputs": [
    {
     "name": "stdout",
     "output_type": "stream",
     "text": [
      "338\n"
     ]
    }
   ],
   "source": [
    "#C5 : Use generator experssion\n",
    "evens =(x for x in numbers if x%2 ==0)\n",
    "print(sum(evens))\n",
    "for n in evens:\n",
    "    print(n,end=' ')"
   ]
  },
  {
   "cell_type": "code",
   "execution_count": 6,
   "metadata": {},
   "outputs": [],
   "source": [
    "for n in evens:\n",
    "    print(n,end='')"
   ]
  },
  {
   "cell_type": "code",
   "execution_count": 3,
   "metadata": {},
   "outputs": [
    {
     "name": "stdout",
     "output_type": "stream",
     "text": [
      "476\n",
      "476\n"
     ]
    }
   ],
   "source": [
    "# Calculate sum of evens numbers\n",
    "print(sum(filter(lambda x: x%2==0, numbers)))\n",
    "print(sum((x for x in numbers if x%2==0)))\n"
   ]
  },
  {
   "cell_type": "code",
   "execution_count": 14,
   "metadata": {},
   "outputs": [
    {
     "name": "stdout",
     "output_type": "stream",
     "text": [
      "[-56  -9  49  14 -97 -44 -87  94 -72  81  78 -94  29 -93  -6 -70  22   8\n",
      " -68  96]\n",
      "-6\n",
      "8\n"
     ]
    }
   ],
   "source": [
    "number = np.random.randint(-100, 100, 20)\n",
    "print(number)\n",
    "# Find max of negative numbers\n",
    "print(max(x for x in number if x < 0))\n",
    "# Find min of positive numbers\n",
    "print(min(x for x in number if x > 0))\n"
   ]
  },
  {
   "cell_type": "code",
   "execution_count": 15,
   "metadata": {},
   "outputs": [],
   "source": [
    "def my_fillter(func,iterable):\n",
    "    for x in iterable:\n",
    "        if func(x):\n",
    "            yield x"
   ]
  },
  {
   "cell_type": "code",
   "execution_count": 16,
   "metadata": {},
   "outputs": [
    {
     "name": "stdout",
     "output_type": "stream",
     "text": [
      "66 74 86 14 30 2 66 "
     ]
    }
   ],
   "source": [
    "for n in my_fillter(lambda x: x%2==0, numbers):\n",
    "    print(n, end=' ')\n"
   ]
  },
  {
   "cell_type": "code",
   "execution_count": 17,
   "metadata": {},
   "outputs": [],
   "source": [
    "def my_map(func,iterable):\n",
    "    for i in iterable:\n",
    "        yield func(i)"
   ]
  },
  {
   "cell_type": "code",
   "execution_count": 20,
   "metadata": {},
   "outputs": [
    {
     "name": "stdout",
     "output_type": "stream",
     "text": [
      "[72, 101, 108, 108, 111, 32, 80, 121, 116, 104, 111, 110]\n"
     ]
    }
   ],
   "source": [
    "# Use my_map, covert a string to a list of ASCII codes\n",
    "\n",
    "s='Hello Python'\n",
    "codes = list(my_map(ord, s))\n",
    "print(codes)"
   ]
  },
  {
   "cell_type": "code",
   "execution_count": 27,
   "metadata": {},
   "outputs": [
    {
     "name": "stdout",
     "output_type": "stream",
     "text": [
      "Hello Python\n",
      "Rovvy*Z~ryx\n",
      ">[bbe\u0016Foj^ed\n"
     ]
    }
   ],
   "source": [
    "#Write simple codeing fucction, convert char to ASCII code +10 then covert back to char\n",
    "def char_coding(c):\n",
    "    return chr(ord(c)+10)\n",
    "# coding string s\n",
    "code_s=''.join(my_map(char_coding,s))\n",
    "print(s)\n",
    "print(code_s)\n",
    "\n",
    "# Ex: write decoding function to convert a coded message to the original message\n",
    "def char_decoding(c):\n",
    "    return ''.join(my_map(lambda c: chr(ord(c)-10),s))\n",
    "\n",
    "print(char_decoding(code_s))\n"
   ]
  },
  {
   "cell_type": "code",
   "execution_count": 45,
   "metadata": {},
   "outputs": [
    {
     "name": "stdout",
     "output_type": "stream",
     "text": [
      "John 7.5 8.0\n",
      "Mary 8.5 90\n",
      "Jane 9.5 30\n",
      "Alice 8.5 50\n",
      "Jill 9.5 80\n"
     ]
    }
   ],
   "source": [
    "students = {'John': (7.5, 8.0), \n",
    "            'Mary': (8.5, 90),\n",
    "            'Peter': (6.5, 70),\n",
    "            'Jane': (9.5, 30),\n",
    "            'Tom': (5.5, 95), \n",
    "            'Alice': (8.5, 50),\n",
    "            'Bob': (5.5, 60), \n",
    "            'Jack': (4.5, 70), \n",
    "            'Jill': (9.5, 80)}\n",
    "\n",
    "# Find most active student who GPA >=7.0 and max activity score\n",
    " #C1: Using for loop\n",
    "for name, (gpa,activity) in students.items():\n",
    "    if gpa >=7.0:\n",
    "        print(name,gpa,activity)\n"
   ]
  },
  {
   "cell_type": "code",
   "execution_count": 46,
   "metadata": {},
   "outputs": [
    {
     "name": "stdout",
     "output_type": "stream",
     "text": [
      "Most active student is Mary\n",
      "GPA=8.5, activity=90\n"
     ]
    }
   ],
   "source": [
    "active_students=(name for name,(gpa,activity) in students.items() if gpa >=7.0)\n",
    "most_active = max(active_students,key=lambda name:students[name][1])\n",
    "print(f'Most active student is {most_active}')\n",
    "print(f'GPA={students[most_active][0]}, activity={students[most_active][1]}')"
   ]
  },
  {
   "cell_type": "code",
   "execution_count": 47,
   "metadata": {},
   "outputs": [
    {
     "name": "stdout",
     "output_type": "stream",
     "text": [
      "John 7.5 8.0\n",
      "Jane 9.5 30\n",
      "Alice 8.5 50\n",
      "Bob 5.5 60\n",
      "Jane\n"
     ]
    }
   ],
   "source": [
    "# Find most nerd student who has activity score <=60 and max GPA\n",
    "\n",
    "for name, (gpa,activity) in students.items():\n",
    "    if activity <=60:\n",
    "        print(name,gpa,activity)\n",
    "studnets_acity=(name for name,(_,activity) in students.items() if activity <=60)\n",
    "most_gpa= max(studnets_acity, key=lambda name:students[name][0])\n",
    "print(most_gpa)\n",
    "\n",
    "\n"
   ]
  },
  {
   "cell_type": "code",
   "execution_count": 48,
   "metadata": {},
   "outputs": [],
   "source": [
    "def nerds_gen(students):\n",
    "    for name, (_,activity) in students.items():\n",
    "        if activity<=60:\n",
    "            yield name"
   ]
  },
  {
   "cell_type": "code",
   "execution_count": 49,
   "metadata": {},
   "outputs": [
    {
     "name": "stdout",
     "output_type": "stream",
     "text": [
      "Name: John, GPA: 7.5, Activity:8.0\n",
      "Name: Jane, GPA: 9.5, Activity:30\n",
      "Name: Alice, GPA: 8.5, Activity:50\n",
      "Name: Bob, GPA: 5.5, Activity:60\n",
      "Most nerd:Jane, GPA:9.5\n"
     ]
    }
   ],
   "source": [
    "for s in nerds_gen(students):\n",
    "    print(f'Name: {s}, GPA: {students[s][0]}, Activity:{students[s][1]}')\n",
    "    \n",
    "most_nerd= max(nerds_gen(students), key= lambda name: students[name][0])\n",
    "print(f'Most nerd:{most_nerd}, GPA:{students[most_nerd][0]}')"
   ]
  },
  {
   "cell_type": "code",
   "execution_count": 54,
   "metadata": {},
   "outputs": [],
   "source": [
    "def fibonacci(n):\n",
    "    if n<=1:\n",
    "        return 1\n",
    "    return fibonacci(n-1)+fibonacci(n-2)\n"
   ]
  },
  {
   "cell_type": "code",
   "execution_count": 55,
   "metadata": {},
   "outputs": [
    {
     "name": "stdout",
     "output_type": "stream",
     "text": [
      "1 1 2 3 5 8 13 21 34 55 89 144 233 377 610 987 1597 2584 4181 6765 "
     ]
    }
   ],
   "source": [
    "for i in range(20):\n",
    "    print(fibonacci(i), end=' ')\n"
   ]
  },
  {
   "cell_type": "code",
   "execution_count": 57,
   "metadata": {},
   "outputs": [
    {
     "name": "stdout",
     "output_type": "stream",
     "text": [
      "1  1  2  3  5  8  13  21  34  55  89  144  233  377  610  987  1597  2584  4181  6765  10946  17711  28657  46368  75025  121393  196418  317811  514229  832040  1346269  2178309  3524578  5702887  9227465  14930352  24157817  39088169  63245986  102334155  "
     ]
    }
   ],
   "source": [
    "def fib_gen(n):\n",
    "    f0, f1 = 1, 1\n",
    "    for _ in range(n):\n",
    "        yield f0\n",
    "        f0, f1 = f1, f0+f1\n",
    "for f in fib_gen(40):\n",
    "    print(f,end='  ')"
   ]
  },
  {
   "cell_type": "code",
   "execution_count": 58,
   "metadata": {},
   "outputs": [],
   "source": [
    "def pyramidal(n):\n",
    "    if n == 1:\n",
    "        return 1\n",
    "    return pyramidal(n-1)+n**2\n"
   ]
  },
  {
   "cell_type": "code",
   "execution_count": 61,
   "metadata": {},
   "outputs": [
    {
     "name": "stdout",
     "output_type": "stream",
     "text": [
      "1 5 14 30 55 "
     ]
    }
   ],
   "source": [
    "for i in range(1,6):\n",
    "    print(pyramidal(i), end=' ')\n"
   ]
  },
  {
   "cell_type": "code",
   "execution_count": 63,
   "metadata": {},
   "outputs": [
    {
     "name": "stdout",
     "output_type": "stream",
     "text": [
      "1 5 14 30 55 "
     ]
    }
   ],
   "source": [
    "def pyramidal_gen(n):\n",
    "    p =0\n",
    "    for i in range(1,n+1):\n",
    "        p += i**2\n",
    "        yield p\n",
    "\n",
    "for p in pyramidal_gen(5):\n",
    "    print(p, end=' ')"
   ]
  }
 ],
 "metadata": {
  "kernelspec": {
   "display_name": "Python 3",
   "language": "python",
   "name": "python3"
  },
  "language_info": {
   "codemirror_mode": {
    "name": "ipython",
    "version": 3
   },
   "file_extension": ".py",
   "mimetype": "text/x-python",
   "name": "python",
   "nbconvert_exporter": "python",
   "pygments_lexer": "ipython3",
   "version": "3.11.1"
  },
  "orig_nbformat": 4,
  "vscode": {
   "interpreter": {
    "hash": "5238573367df39f7286bb46f9ff5f08f63a01a80960060ce41e3c79b190280fa"
   }
  }
 },
 "nbformat": 4,
 "nbformat_minor": 2
}
