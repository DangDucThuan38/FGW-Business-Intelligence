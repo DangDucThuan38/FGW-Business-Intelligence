{
 "cells": [
  {
   "cell_type": "code",
   "execution_count": 21,
   "metadata": {},
   "outputs": [
    {
     "name": "stdout",
     "output_type": "stream",
     "text": [
      "eraser has the highest sold: 500000\n",
      "pencil has the lowest sold: 120000\n",
      "notebook has highest price: 10000\n",
      "eraser has lowest price: 500\n",
      "eraser has Highest price: 1000\n",
      "notebook has lowest price: 30\n"
     ]
    }
   ],
   "source": [
    "products = ['pencil','eraser','ruler','pen','notebook']\n",
    "prices = [1000, 500, 2000, 5000,10000]\n",
    "sold = [120,1000,80,50,30]\n",
    "\n",
    "#Find product that has the highest sold\n",
    "\n",
    "max_sold = prices[0] * sold[0]\n",
    "i_max = 0\n",
    "n = len(products)\n",
    "for i in range(1, n): #for(i=1; i<n;i++)\n",
    "    if prices[i] * sold[i] > max_sold:\n",
    "        max_sold = prices[i] * sold[i]  #update max_sold\n",
    "        i_max = i                       #update position of max_sold\n",
    "        \n",
    "print(f'{products[i_max]} has the highest sold: {max_sold}')\n",
    "i_min = 0\n",
    "min_sold =  prices[0] * sold[0]\n",
    "#Find product that has the lowest sold\n",
    "for i in range(1, n): #for(i=1; i<n;i++)\n",
    "    if prices[i] * sold[i] < min_sold:\n",
    "        min_sold = prices[i] * sold[i]  #update max_sold\n",
    "        i_min = i      \n",
    "\n",
    "print(f'{products[i_min]} has the lowest sold: {min_sold}')\n",
    "\n",
    "\n",
    "# Find product that has the highest price\n",
    "max_price = prices[0]\n",
    "p_max=0\n",
    "for i in range(n): #for(i=0; i<n;i++)\n",
    "    if prices[i] > max_price:\n",
    "        max_price =prices[i]\n",
    "        p_max = i\n",
    "        \n",
    "print(f'{products[p_max]} has highest price: {max_price}')\n",
    "\n",
    "\n",
    "\n",
    "# Find product that has lowest price\n",
    "min_price = prices[0]\n",
    "p_min = 0\n",
    "for i in range(n): #for(i=0; i<n;i++)\n",
    "    if prices[i] < min_price:\n",
    "        min_price = prices[i]\n",
    "        p_min = i\n",
    "        \n",
    "print(f'{products[p_min]} has lowest price: {min_price}')\n",
    "\n",
    "# Find product that has sold the most\n",
    "max_sold = sold[0]\n",
    "s_max = 0\n",
    "for i in range(n): #for(i=0; i<n;i++)\n",
    "    if sold[i] > max_sold:\n",
    "        max_sold =sold[i]\n",
    "        s_max = i\n",
    "        \n",
    "print(f'{products[s_max]} has Highest price: {max_sold}')\n",
    "\n",
    "# Find product that has sold the least \n",
    "\n",
    "min_sold = sold[0]\n",
    "s_min = 0\n",
    "for i in range(n): #for(i=0; i<n;i++)\n",
    "    if sold[i] < min_sold:\n",
    "        min_sold =sold[i]\n",
    "        s_min = i\n",
    "        \n",
    "print(f'{products[s_min]} has lowest price: {min_sold}')\n",
    "\n",
    "\n",
    "\n"
   ]
  },
  {
   "cell_type": "code",
   "execution_count": 8,
   "metadata": {},
   "outputs": [],
   "source": [
    "products_sold = [['pencil', 1000, 120],\n",
    "                 ['earse', 500, 1000],\n",
    "                 ['ruler', 2000, 80],\n",
    "                 ['pen', 5000, 50],\n",
    "                 ['notebook', 10000, 30]]"
   ]
  },
  {
   "cell_type": "code",
   "execution_count": 23,
   "metadata": {},
   "outputs": [
    {
     "name": "stdout",
     "output_type": "stream",
     "text": [
      "earse the highest sold:500000\n",
      "pencil the lowest sold:120000\n",
      "notebook the highest price:10000\n",
      "earse the lowest price:500\n"
     ]
    }
   ],
   "source": [
    "#Find product that has the highest sold\n",
    "\n",
    "n = len(products_sold)\n",
    "i_max = i\n",
    "max_sold = products_sold[0][1] * products_sold[0][2]\n",
    "for i in range(n):\n",
    "    if products_sold[i][1]* products_sold[i][2] > max_sold:\n",
    "        max_sold = products_sold[i][1]* products_sold[i][2]\n",
    "        i_max = i\n",
    "\n",
    "print(f'{products_sold[i_max][0]} the highest sold:{max_sold}')\n",
    "\n",
    "#Find product that has the lowest sold\n",
    "\n",
    "n = len(products_sold)\n",
    "i_max = 0\n",
    "max_sold = products_sold[0][1] * products_sold[0][2]\n",
    "for i in range(n):\n",
    "    if products_sold[i][1]* products_sold[i][2] < max_sold:\n",
    "        max_sold = products_sold[i][1]* products_sold[i][2]\n",
    "        i_max = i\n",
    "\n",
    "print(f'{products_sold[i_max][0]} the lowest sold:{max_sold}')\n",
    "\n",
    "\n",
    "# Find product that has the highest price\n",
    "\n",
    "max_price = products_sold[0][1]\n",
    "p_m =0\n",
    "for i in range(n):\n",
    "    if max_price < products_sold[i][1]:\n",
    "        max_price = products_sold[i][1]\n",
    "        p_max = i\n",
    "print(f'{products_sold[p_max][0]} the highest price:{max_price}')\n",
    "    \n",
    "\n",
    "#Find product that has the lowest price\n",
    "\n",
    "min_price = products_sold[0][1]\n",
    "p_min = 0\n",
    "for i in range(n):\n",
    "    if min_price > products_sold[i][1]:\n",
    "        min_price = products_sold[i][1]\n",
    "        p_min = i\n",
    "print(f'{products_sold[p_min][0]} the lowest price:{min_price}')\n",
    "\n",
    "# Find product that has sold the most\n",
    "\n",
    "# Find product that has sold the least \n"
   ]
  },
  {
   "cell_type": "code",
   "execution_count": 25,
   "metadata": {},
   "outputs": [],
   "source": [
    "import random as round\n",
    "numbers = [[1,2,3,4,5],\n",
    "           [6,7,8,9,10],\n",
    "           [11,12,13,14,15],\n",
    "           [16,17,18,19,20],\n",
    "           [20,21,22,23,24,25]]\n"
   ]
  },
  {
   "cell_type": "code",
   "execution_count": 27,
   "metadata": {},
   "outputs": [
    {
     "name": "stdout",
     "output_type": "stream",
     "text": [
      "[[6, 7, 8, 9, 10], [11, 12, 13, 14, 15], [16, 17, 18, 19, 20]]\n",
      "[[6, 7, 8, 9, 10], [11, 12, 13, 14, 15], [16, 17, 18, 19, 20]]\n",
      "[[6, 7, 8, 9, 10], [11, 12, 13, 14, 15], [16, 17, 18, 19, 20]]\n",
      "[[6, 7, 8, 9, 10], [11, 12, 13, 14, 15], [16, 17, 18, 19, 20]]\n"
     ]
    }
   ],
   "source": [
    "# Get 3 middle rows in as many ways as you can\n",
    "# Method 1\n",
    "middle = numbers[1:4]\n",
    "print(middle)\n",
    "middle = numbers[1:-1]\n",
    "print(middle)\n",
    "middle = numbers[-4:-1]\n",
    "print(middle)\n",
    "middle = numbers[-4:4]\n",
    "print(middle)"
   ]
  },
  {
   "cell_type": "code",
   "execution_count": 45,
   "metadata": {},
   "outputs": [
    {
     "name": "stdout",
     "output_type": "stream",
     "text": [
      "[[16, 17, 18, 19, 20], [20, 21, 22, 23, 24, 25]]\n",
      "[[16, 17, 18, 19, 20], [20, 21, 22, 23, 24, 25]]\n",
      "[[16, 17, 18, 19, 20], [20, 21, 22, 23, 24, 25]]\n"
     ]
    }
   ],
   "source": [
    "#Get 2 row cuoi\n",
    "#Method 1\n",
    "print(numbers[3:])\n",
    "print(numbers[-2:])\n",
    "print(numbers[3:5])"
   ]
  },
  {
   "cell_type": "code",
   "execution_count": 51,
   "metadata": {},
   "outputs": [
    {
     "name": "stdout",
     "output_type": "stream",
     "text": [
      "Max of row 2: 15\n",
      "Min of row 2: 11\n",
      "Sum of row 2: 65\n"
     ]
    }
   ],
   "source": [
    "n = int(input('Enter n: '))\n",
    "print(f'Max of row {n}: {max(numbers[n])}')\n",
    "print(f'Min of row {n}: {min(numbers[n])}')\n",
    "print(f'Sum of row {n}: {sum(numbers[n])}')"
   ]
  },
  {
   "cell_type": "code",
   "execution_count": 53,
   "metadata": {},
   "outputs": [
    {
     "name": "stdout",
     "output_type": "stream",
     "text": [
      "[ 1  2  3  4  5  6  7  8  9 10] <class 'numpy.ndarray'>\n"
     ]
    }
   ],
   "source": [
    "import numpy as np\n",
    "numbers = np.array([1,2,3,4,5,6,7,8,9,10])\n",
    "print(numbers, type(numbers))"
   ]
  },
  {
   "cell_type": "code",
   "execution_count": 54,
   "metadata": {},
   "outputs": [
    {
     "name": "stdout",
     "output_type": "stream",
     "text": [
      "['hello', 1, 2, 3, True] <class 'list'>\n",
      "['hello' '1' '2' '3' 'True'] <class 'numpy.ndarray'>\n"
     ]
    }
   ],
   "source": [
    "a = ['hello',1,2,3,True]\n",
    "b = np.array(a)\n",
    "print(a, type(a))\n",
    "print(b, type(b))"
   ]
  },
  {
   "cell_type": "code",
   "execution_count": 58,
   "metadata": {},
   "outputs": [
    {
     "name": "stdout",
     "output_type": "stream",
     "text": [
      "[1, 2, 3, 4, 5, 6, 7, 8, 9, 10] <class 'list'>\n",
      "[ 1  2  3  4  5  6  7  8  9 10] <class 'numpy.ndarray'>\n",
      "[0 1 2 3 4 5 6 7 8 9]\n",
      "[ 1  3  5  7  9 11 13 15 17 19]\n",
      "[ 0  2  4  6  8 10 12 14 16 18]\n"
     ]
    }
   ],
   "source": [
    "a = list(range(1,11))\n",
    "print(a, type(a))\n",
    "b = np.arange(1,11)\n",
    "print(b, type(b))\n",
    "\n",
    "#Full syntanx arange: np.arange(start, stop, step)\n",
    "print(np.arange(10))\n",
    "print(np.arange(1,20,2))\n",
    "print(np.arange(0,20,2))"
   ]
  },
  {
   "cell_type": "code",
   "execution_count": 66,
   "metadata": {},
   "outputs": [
    {
     "name": "stdout",
     "output_type": "stream",
     "text": [
      "[ 1  2  3  4  5  6  7  8  9 10]\n",
      "[0 1 2 3 4 5 6 7 8 9]\n",
      "[ 1  3  5  7  9 11 13 15 17 19]\n",
      "[ 1  2  4  6  8 10 12 14 16 18]\n"
     ]
    }
   ],
   "source": [
    "# Function linspace: np.linspace( start, stop, num, endpoint) \n",
    "print(np.linspace(1, 10, 10, dtype=int))\n",
    "print(np.linspace(0, 10,10, endpoint=False, dtype=int))\n",
    "print(np.linspace(1, 19, 10, dtype=int))\n",
    "print(np.linspace(1, 18, 10, dtype=int))\n"
   ]
  },
  {
   "cell_type": "code",
   "execution_count": 68,
   "metadata": {},
   "outputs": [
    {
     "name": "stdout",
     "output_type": "stream",
     "text": [
      "[0.  0.5 1.  1.5 2.  2.5 3.  3.5 4.  4.5 5.  5.5 6.  6.5 7.  7.5 8.  8.5\n",
      " 9.  9.5]\n",
      "[0.  0.5 1.  1.5 2.  2.5 3.  3.5 4.  4.5 5.  5.5 6.  6.5 7.  7.5 8.  8.5\n",
      " 9.  9.5]\n"
     ]
    }
   ],
   "source": [
    "print(np.arange(0, 10, 0.5))\n",
    "print(np.linspace(0, 10, 20, endpoint=False))"
   ]
  },
  {
   "cell_type": "code",
   "execution_count": 82,
   "metadata": {},
   "outputs": [
    {
     "name": "stdout",
     "output_type": "stream",
     "text": [
      "[ 1  2  3  4  5  6  7  8  9 10]\n",
      "[   2    4    8   16   32   64  128  256  512 1024]\n",
      "[   2    4    8   16   32   64  128  256  512 1024]\n"
     ]
    }
   ],
   "source": [
    "# Function logspace: np.logspace(start, stop, num, endpoint, base)\n",
    "a = np.linspace(1, 10, 10, endpoint=True, dtype=int)\n",
    "b = 2**a\n",
    "print(a)\n",
    "print(b)\n",
    "c = np.logspace(1, 10, 10, endpoint=True, base=2, dtype=int)\n",
    "print(c)\n"
   ]
  },
  {
   "cell_type": "code",
   "execution_count": 81,
   "metadata": {},
   "outputs": [
    {
     "name": "stdout",
     "output_type": "stream",
     "text": [
      "[  1   3   9  27  81 243]\n",
      "[     10     100    1000   10000  100000 1000000]\n"
     ]
    }
   ],
   "source": [
    "a = np.logspace(0, 5, 6, endpoint=True, base=3, dtype=int)\n",
    "print(a)\n",
    "b = np.logspace(1, 6, 6, endpoint=True, base=10, dtype=int)\n",
    "print(b)\n"
   ]
  },
  {
   "cell_type": "code",
   "execution_count": 84,
   "metadata": {},
   "outputs": [
    {
     "name": "stdout",
     "output_type": "stream",
     "text": [
      "[0 0 0 0 0 0 0 0 0 0]\n",
      "[1 1 1 1 1 1 1 1 1 1]\n",
      "[2 2 2 2 2 2 2 2 2 2]\n"
     ]
    }
   ],
   "source": [
    "zeros = np.zeros(10, dtype=int)\n",
    "ones = np.ones(10,dtype=int)\n",
    "print(zeros)\n",
    "print(ones)\n",
    "print(ones*2)"
   ]
  },
  {
   "cell_type": "code",
   "execution_count": 86,
   "metadata": {},
   "outputs": [
    {
     "name": "stdout",
     "output_type": "stream",
     "text": [
      "[3 4 5 6 7]\n",
      "[-21 -20 -19 -18 -17]\n",
      "[ 2  4  6  8 10]\n",
      "[0.5 1.  1.5 2.  2.5]\n",
      "[0 1 1 2 2]\n",
      "[1 0 1 0 1]\n",
      "[ 1  4  9 16 25]\n"
     ]
    }
   ],
   "source": [
    "# Array operators: +,-,*,/,//,%,**\n",
    "a = np.array([1, 2, 3, 4, 5])\n",
    "print(a+2)\n",
    "print(a-22)\n",
    "print(a*2)\n",
    "print(a/2)\n",
    "print(a//2)\n",
    "print(a % 2)\n",
    "print(a**2)\n"
   ]
  },
  {
   "cell_type": "code",
   "execution_count": 88,
   "metadata": {},
   "outputs": [
    {
     "name": "stdout",
     "output_type": "stream",
     "text": [
      "[ 7  9 11 13 15]\n",
      "[-5 -5 -5 -5 -5]\n",
      "[ 6 14 24 36 50]\n",
      "[0.16666667 0.28571429 0.375      0.44444444 0.5       ]\n",
      "[0 0 0 0 0]\n",
      "[1 2 3 4 5]\n",
      "[      1     128    6561  262144 9765625]\n"
     ]
    }
   ],
   "source": [
    "a = np.array([1, 2, 3, 4, 5])\n",
    "b = np.array([6, 7, 8, 9, 10])\n",
    "print(a + b)\n",
    "print(a - b)\n",
    "print(a * b)\n",
    "print(a / b)\n",
    "print(a // b)\n",
    "print(a % b)\n",
    "print(a ** b)\n",
    "\n"
   ]
  },
  {
   "cell_type": "code",
   "execution_count": 91,
   "metadata": {},
   "outputs": [
    {
     "name": "stdout",
     "output_type": "stream",
     "text": [
      "[ 9 39 44 65 85 26  0 98 92  8]\n",
      "[1 1 0 1 1 0 0 0 0 0]\n",
      "[False False  True False False  True  True  True  True  True]\n",
      "[44 26  0 98 92  8]\n"
     ]
    }
   ],
   "source": [
    "# Generate 10 random number in range [0,99]\n",
    "numbers = np.random.randint(0, 100, 10)\n",
    "print(numbers)\n",
    "b = numbers % 2\n",
    "print(b)\n",
    "c = b == 0\n",
    "print(c)\n",
    "evens = numbers[c] #boolean indexing\n",
    "print(evens)"
   ]
  },
  {
   "cell_type": "code",
   "execution_count": 93,
   "metadata": {},
   "outputs": [
    {
     "name": "stdout",
     "output_type": "stream",
     "text": [
      "[44 26  0 98 92  8]\n",
      "[ 9 39 65 85]\n"
     ]
    }
   ],
   "source": [
    "print(evens)\n",
    "odds = numbers [numbers %2 ==1]\n",
    "print(odds)"
   ]
  },
  {
   "cell_type": "code",
   "execution_count": 96,
   "metadata": {},
   "outputs": [
    {
     "name": "stdout",
     "output_type": "stream",
     "text": [
      "[ 8 55 46 29  7 18 13 18 86 80 67 57 43]\n",
      "[-54 -69 -73 -20 -37 -26 -40]\n"
     ]
    }
   ],
   "source": [
    "numbers = np.random.randint(-99, 100, 20)\n",
    "print(numbers[numbers >0])\n",
    "print(numbers[numbers <0])"
   ]
  },
  {
   "cell_type": "code",
   "execution_count": 97,
   "metadata": {},
   "outputs": [
    {
     "name": "stdout",
     "output_type": "stream",
     "text": [
      "[ 8  0  0 55 46 29  7  0 18 13 18  0  0  0 86 80 67  0 57 43]\n"
     ]
    }
   ],
   "source": [
    "numbers[numbers < 0] = 0\n",
    "print(numbers)"
   ]
  },
  {
   "cell_type": "code",
   "execution_count": 107,
   "metadata": {},
   "outputs": [
    {
     "name": "stdout",
     "output_type": "stream",
     "text": [
      "['Barrack Obama' 'Donal Trump' '' 'Zoe Biden' 'Messi']\n",
      "['Barrack Obama' 'Donal Trump' 'John Doe' 'Zoe Biden' 'Messi']\n",
      "[ 59  74  78 -10 272]\n",
      "[ 59  74  78   0 150]\n"
     ]
    }
   ],
   "source": [
    "names = np.array(['Barrack Obama', 'Donal Trump','','Zoe Biden', \"Messi\"])\n",
    "ages = np.array([59, 74, 78, -10, 272])\n",
    "print(names)\n",
    "names[names == ''] = \"John Doe\"\n",
    "print(names)\n",
    "print(ages)\n",
    "ages[ages < 0 ] = 0\n",
    "ages[ages > 150] = 150\n",
    "print(ages)\n",
    "\n",
    "\n",
    "\n"
   ]
  },
  {
   "cell_type": "code",
   "execution_count": 109,
   "metadata": {},
   "outputs": [
    {
     "name": "stdout",
     "output_type": "stream",
     "text": [
      "Min age = 0\n",
      "Max age = 150\n",
      "Longest name: Barrack Obama\n",
      "Shortest name: Messi\n"
     ]
    }
   ],
   "source": [
    "print(f'Min age = {min(ages)}')\n",
    "print(f'Max age = {max(ages)}')\n",
    "print(f'Longest name: {max(names, key=len)}')\n",
    "print(f'Shortest name: {min(names, key=len)}')\n",
    "\n"
   ]
  }
 ],
 "metadata": {
  "kernelspec": {
   "display_name": "Python 3",
   "language": "python",
   "name": "python3"
  },
  "language_info": {
   "codemirror_mode": {
    "name": "ipython",
    "version": 3
   },
   "file_extension": ".py",
   "mimetype": "text/x-python",
   "name": "python",
   "nbconvert_exporter": "python",
   "pygments_lexer": "ipython3",
   "version": "3.11.1 (tags/v3.11.1:a7a450f, Dec  6 2022, 19:58:39) [MSC v.1934 64 bit (AMD64)]"
  },
  "orig_nbformat": 4,
  "vscode": {
   "interpreter": {
    "hash": "5238573367df39f7286bb46f9ff5f08f63a01a80960060ce41e3c79b190280fa"
   }
  }
 },
 "nbformat": 4,
 "nbformat_minor": 2
}
