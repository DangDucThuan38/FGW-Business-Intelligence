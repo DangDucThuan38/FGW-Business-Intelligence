{
 "cells": [
  {
   "cell_type": "code",
   "execution_count": 21,
   "metadata": {},
   "outputs": [
    {
     "name": "stdout",
     "output_type": "stream",
     "text": [
      "eraser has the highest sold: 500000\n",
      "pencil has the lowest sold: 120000\n",
      "notebook has highest price: 10000\n",
      "eraser has lowest price: 500\n",
      "eraser has Highest price: 1000\n",
      "notebook has lowest price: 30\n"
     ]
    }
   ],
   "source": [
    "products = ['pencil','eraser','ruler','pen','notebook']\n",
    "prices = [1000, 500, 2000, 5000,10000]\n",
    "sold = [120,1000,80,50,30]\n",
    "\n",
    "#Find product that has the highest sold\n",
    "\n",
    "max_sold = prices[0] * sold[0]\n",
    "i_max = 0\n",
    "n = len(products)\n",
    "for i in range(1, n): #for(i=1; i<n;i++)\n",
    "    if prices[i] * sold[i] > max_sold:\n",
    "        max_sold = prices[i] * sold[i]  #update max_sold\n",
    "        i_max = i                       #update position of max_sold\n",
    "        \n",
    "print(f'{products[i_max]} has the highest sold: {max_sold}')\n",
    "i_min = 0\n",
    "min_sold =  prices[0] * sold[0]\n",
    "#Find product that has the lowest sold\n",
    "for i in range(1, n): #for(i=1; i<n;i++)\n",
    "    if prices[i] * sold[i] < min_sold:\n",
    "        min_sold = prices[i] * sold[i]  #update max_sold\n",
    "        i_min = i      \n",
    "\n",
    "print(f'{products[i_min]} has the lowest sold: {min_sold}')\n",
    "\n",
    "\n",
    "# Find product that has the highest price\n",
    "max_price = prices[0]\n",
    "p_max=0\n",
    "for i in range(n): #for(i=0; i<n;i++)\n",
    "    if prices[i] > max_price:\n",
    "        max_price =prices[i]\n",
    "        p_max = i\n",
    "        \n",
    "print(f'{products[p_max]} has highest price: {max_price}')\n",
    "\n",
    "\n",
    "\n",
    "# Find product that has lowest price\n",
    "min_price = prices[0]\n",
    "p_min = 0\n",
    "for i in range(n): #for(i=0; i<n;i++)\n",
    "    if prices[i] < min_price:\n",
    "        min_price = prices[i]\n",
    "        p_min = i\n",
    "        \n",
    "print(f'{products[p_min]} has lowest price: {min_price}')\n",
    "\n",
    "# Find product that has sold the most\n",
    "max_sold = sold[0]\n",
    "s_max = 0\n",
    "for i in range(n): #for(i=0; i<n;i++)\n",
    "    if sold[i] > max_sold:\n",
    "        max_sold =sold[i]\n",
    "        s_max = i\n",
    "        \n",
    "print(f'{products[s_max]} has Highest price: {max_sold}')\n",
    "\n",
    "# Find product that has sold the least \n",
    "\n",
    "min_sold = sold[0]\n",
    "s_min = 0\n",
    "for i in range(n): #for(i=0; i<n;i++)\n",
    "    if sold[i] < min_sold:\n",
    "        min_sold =sold[i]\n",
    "        s_min = i\n",
    "        \n",
    "print(f'{products[s_min]} has lowest price: {min_sold}')\n",
    "\n",
    "\n",
    "\n"
   ]
  },
  {
   "cell_type": "code",
   "execution_count": 8,
   "metadata": {},
   "outputs": [],
   "source": [
    "products_sold = [['pencil', 1000, 120],\n",
    "                 ['earse', 500, 1000],\n",
    "                 ['ruler', 2000, 80],\n",
    "                 ['pen', 5000, 50],\n",
    "                 ['notebook', 10000, 30]]"
   ]
  },
  {
   "cell_type": "code",
   "execution_count": 23,
   "metadata": {},
   "outputs": [
    {
     "name": "stdout",
     "output_type": "stream",
     "text": [
      "earse the highest sold:500000\n",
      "pencil the lowest sold:120000\n",
      "notebook the highest price:10000\n",
      "earse the lowest price:500\n"
     ]
    }
   ],
   "source": [
    "#Find product that has the highest sold\n",
    "\n",
    "n = len(products_sold)\n",
    "i_max = i\n",
    "max_sold = products_sold[0][1] * products_sold[0][2]\n",
    "for i in range(n):\n",
    "    if products_sold[i][1]* products_sold[i][2] > max_sold:\n",
    "        max_sold = products_sold[i][1]* products_sold[i][2]\n",
    "        i_max = i\n",
    "\n",
    "print(f'{products_sold[i_max][0]} the highest sold:{max_sold}')\n",
    "\n",
    "#Find product that has the lowest sold\n",
    "\n",
    "n = len(products_sold)\n",
    "i_max = 0\n",
    "max_sold = products_sold[0][1] * products_sold[0][2]\n",
    "for i in range(n):\n",
    "    if products_sold[i][1]* products_sold[i][2] < max_sold:\n",
    "        max_sold = products_sold[i][1]* products_sold[i][2]\n",
    "        i_max = i\n",
    "\n",
    "print(f'{products_sold[i_max][0]} the lowest sold:{max_sold}')\n",
    "\n",
    "\n",
    "# Find product that has the highest price\n",
    "\n",
    "max_price = products_sold[0][1]\n",
    "p_m =0\n",
    "for i in range(n):\n",
    "    if max_price < products_sold[i][1]:\n",
    "        max_price = products_sold[i][1]\n",
    "        p_max = i\n",
    "print(f'{products_sold[p_max][0]} the highest price:{max_price}')\n",
    "    \n",
    "\n",
    "#Find product that has the lowest price\n",
    "\n",
    "min_price = products_sold[0][1]\n",
    "p_min = 0\n",
    "for i in range(n):\n",
    "    if min_price > products_sold[i][1]:\n",
    "        min_price = products_sold[i][1]\n",
    "        p_min = i\n",
    "print(f'{products_sold[p_min][0]} the lowest price:{min_price}')\n",
    "\n",
    "# Find product that has sold the most\n",
    "\n",
    "# Find product that has sold the least \n"
   ]
  },
  {
   "cell_type": "code",
   "execution_count": 25,
   "metadata": {},
   "outputs": [],
   "source": [
    "import random as round\n",
    "numbers = [[1,2,3,4,5],\n",
    "           [6,7,8,9,10],\n",
    "           [11,12,13,14,15],\n",
    "           [16,17,18,19,20],\n",
    "           [20,21,22,23,24,25]]\n"
   ]
  },
  {
   "cell_type": "code",
   "execution_count": 27,
   "metadata": {},
   "outputs": [
    {
     "name": "stdout",
     "output_type": "stream",
     "text": [
      "[[6, 7, 8, 9, 10], [11, 12, 13, 14, 15], [16, 17, 18, 19, 20]]\n",
      "[[6, 7, 8, 9, 10], [11, 12, 13, 14, 15], [16, 17, 18, 19, 20]]\n",
      "[[6, 7, 8, 9, 10], [11, 12, 13, 14, 15], [16, 17, 18, 19, 20]]\n",
      "[[6, 7, 8, 9, 10], [11, 12, 13, 14, 15], [16, 17, 18, 19, 20]]\n"
     ]
    }
   ],
   "source": [
    "# Get 3 middle rows in as many ways as you can\n",
    "# Method 1\n",
    "middle = numbers[1:4]\n",
    "print(middle)\n",
    "middle = numbers[1:-1]\n",
    "print(middle)\n",
    "middle = numbers[-4:-1]\n",
    "print(middle)\n",
    "middle = numbers[-4:4]\n",
    "print(middle)"
   ]
  },
  {
   "cell_type": "code",
   "execution_count": 45,
   "metadata": {},
   "outputs": [
    {
     "name": "stdout",
     "output_type": "stream",
     "text": [
      "[[16, 17, 18, 19, 20], [20, 21, 22, 23, 24, 25]]\n",
      "[[16, 17, 18, 19, 20], [20, 21, 22, 23, 24, 25]]\n",
      "[[16, 17, 18, 19, 20], [20, 21, 22, 23, 24, 25]]\n"
     ]
    }
   ],
   "source": [
    "#Get 2 row cuoi\n",
    "#Method 1\n",
    "print(numbers[3:])\n",
    "print(numbers[-2:])\n",
    "print(numbers[3:5])"
   ]
  },
  {
   "cell_type": "code",
   "execution_count": 51,
   "metadata": {},
   "outputs": [
    {
     "name": "stdout",
     "output_type": "stream",
     "text": [
      "Max of row 2: 15\n",
      "Min of row 2: 11\n",
      "Sum of row 2: 65\n"
     ]
    }
   ],
   "source": [
    "n = int(input('Enter n: '))\n",
    "print(f'Max of row {n}: {max(numbers[n])}')\n",
    "print(f'Min of row {n}: {min(numbers[n])}')\n",
    "print(f'Sum of row {n}: {sum(numbers[n])}')"
   ]
  },
  {
   "cell_type": "code",
   "execution_count": 53,
   "metadata": {},
   "outputs": [
    {
     "name": "stdout",
     "output_type": "stream",
     "text": [
      "[ 1  2  3  4  5  6  7  8  9 10] <class 'numpy.ndarray'>\n"
     ]
    }
   ],
   "source": [
    "import numpy as np\n",
    "numbers = np.array([1,2,3,4,5,6,7,8,9,10])\n",
    "print(numbers, type(numbers))"
   ]
  },
  {
   "cell_type": "code",
   "execution_count": 54,
   "metadata": {},
   "outputs": [
    {
     "name": "stdout",
     "output_type": "stream",
     "text": [
      "['hello', 1, 2, 3, True] <class 'list'>\n",
      "['hello' '1' '2' '3' 'True'] <class 'numpy.ndarray'>\n"
     ]
    }
   ],
   "source": [
    "a = ['hello',1,2,3,True]\n",
    "b = np.array(a)\n",
    "print(a, type(a))\n",
    "print(b, type(b))"
   ]
  }
 ],
 "metadata": {
  "kernelspec": {
   "display_name": "Python 3",
   "language": "python",
   "name": "python3"
  },
  "language_info": {
   "codemirror_mode": {
    "name": "ipython",
    "version": 3
   },
   "file_extension": ".py",
   "mimetype": "text/x-python",
   "name": "python",
   "nbconvert_exporter": "python",
   "pygments_lexer": "ipython3",
   "version": "3.11.1"
  },
  "orig_nbformat": 4,
  "vscode": {
   "interpreter": {
    "hash": "5238573367df39f7286bb46f9ff5f08f63a01a80960060ce41e3c79b190280fa"
   }
  }
 },
 "nbformat": 4,
 "nbformat_minor": 2
}
