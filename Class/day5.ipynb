{
 "cells": [
  {
   "cell_type": "code",
   "execution_count": 4,
   "metadata": {},
   "outputs": [
    {
     "name": "stdout",
     "output_type": "stream",
     "text": [
      "{'Emma': 308, 'John': 123, 'Marry': 432}\n",
      "3\n",
      "308\n"
     ]
    }
   ],
   "source": [
    "rooms = {}\n",
    "rooms = {'Emma': 308, 'John': 123, 'Marry': 432}\n",
    "print(rooms)\n",
    "print(len(rooms))\n",
    "# print(rooms[0]) => Error, dictionary doesn't support indexing\n",
    "print(rooms['Emma'])  # => 308\n",
    "# print(rooms['emma']) #=>Error because emma doesn't exist,key is case senditive\n"
   ]
  },
  {
   "cell_type": "code",
   "execution_count": 2,
   "metadata": {},
   "outputs": [
    {
     "name": "stdout",
     "output_type": "stream",
     "text": [
      "{'Emma': 308, 'John': 123, 'Marry': 432, 'Mike': 888}\n",
      "{'Emma': 308, 'John': 123, 'Marry': 432, 'Mike': 999}\n"
     ]
    }
   ],
   "source": [
    "# Dictionary operations: add new key-value pair, edit value, delete key-value\n",
    "# Add new key-value\n",
    "rooms['Mike'] = 888\n",
    "print(rooms)\n",
    "# Edit value\n",
    "rooms['Mike'] = 999\n",
    "print(rooms)\n"
   ]
  },
  {
   "cell_type": "code",
   "execution_count": 3,
   "metadata": {},
   "outputs": [
    {
     "name": "stdout",
     "output_type": "stream",
     "text": [
      "{'Emma': 308, 'John': 123, 'Marry': 432}\n"
     ]
    }
   ],
   "source": [
    "# Delte key - value\n",
    "del rooms['Mike']\n",
    "print(rooms)\n"
   ]
  },
  {
   "cell_type": "code",
   "execution_count": 5,
   "metadata": {},
   "outputs": [
    {
     "name": "stdout",
     "output_type": "stream",
     "text": [
      "Sorry, guest {name} is already booked\n"
     ]
    }
   ],
   "source": [
    "# A new gues arrives\n",
    "\n",
    "name = input('Enter guest name: ')\n",
    "room_no = int(input('Enter room number: '))\n",
    "if name in rooms:\n",
    "    print(f'Sorry, guest {name} is already booked')\n",
    "else:\n",
    "    rooms[name] = room_no\n",
    "    print(f'Guest {name} is booked in room {room_no}')\n"
   ]
  },
  {
   "cell_type": "code",
   "execution_count": 9,
   "metadata": {},
   "outputs": [
    {
     "name": "stdout",
     "output_type": "stream",
     "text": [
      "Guest Marry changed room 500 succefully\n"
     ]
    }
   ],
   "source": [
    "# A guest wants to change to a new room\n",
    "name = input('Enter guest name: ')\n",
    "if name in rooms:\n",
    "    room_no = int(input('Enter room number: '))\n",
    "    rooms[name] = room_no\n",
    "    print(f'Guest {name} changed room {room_no} succefully')\n",
    "else:\n",
    "    print(f'Sorry, guest {name} can not change room')\n"
   ]
  },
  {
   "cell_type": "code",
   "execution_count": 10,
   "metadata": {},
   "outputs": [
    {
     "name": "stdout",
     "output_type": "stream",
     "text": [
      "{'Emma': 308, 'John': 500, 'Marry': 500}\n"
     ]
    }
   ],
   "source": [
    "print(rooms)"
   ]
  },
  {
   "cell_type": "code",
   "execution_count": 15,
   "metadata": {},
   "outputs": [
    {
     "name": "stdout",
     "output_type": "stream",
     "text": [
      "Marry check out succefully\n"
     ]
    }
   ],
   "source": [
    "# A guest want to check out\n",
    "name = input('Enter guest name: ')\n",
    "if name in rooms:\n",
    "    del rooms[name]\n",
    "    print(f'{name} check out succefully')\n",
    "else:\n",
    "    print(f'Sorry, guest {name} can not check out because you not book room')"
   ]
  },
  {
   "cell_type": "code",
   "execution_count": 16,
   "metadata": {},
   "outputs": [
    {
     "name": "stdout",
     "output_type": "stream",
     "text": [
      "{'John': 500}\n"
     ]
    }
   ],
   "source": [
    "print(rooms)"
   ]
  }
 ],
 "metadata": {
  "kernelspec": {
   "display_name": "Python 3",
   "language": "python",
   "name": "python3"
  },
  "language_info": {
   "codemirror_mode": {
    "name": "ipython",
    "version": 3
   },
   "file_extension": ".py",
   "mimetype": "text/x-python",
   "name": "python",
   "nbconvert_exporter": "python",
   "pygments_lexer": "ipython3",
   "version": "3.11.1"
  },
  "orig_nbformat": 4,
  "vscode": {
   "interpreter": {
    "hash": "5238573367df39f7286bb46f9ff5f08f63a01a80960060ce41e3c79b190280fa"
   }
  }
 },
 "nbformat": 4,
 "nbformat_minor": 2
}
