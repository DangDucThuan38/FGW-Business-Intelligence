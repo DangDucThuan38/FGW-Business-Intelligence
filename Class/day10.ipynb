{
 "cells": [
  {
   "cell_type": "code",
   "execution_count": 2,
   "metadata": {},
   "outputs": [
    {
     "name": "stdout",
     "output_type": "stream",
     "text": [
      "Federal Bureau of Investigation\n",
      "Central Intelligence Agency\n",
      "The Triboro Bridge and Tunnel Authority\n",
      "Housing and Urban Development\n",
      "The Metropolitan Transit Authority\n",
      "The Port Authority of New York and New Jersey\n"
     ]
    }
   ],
   "source": [
    "# mode: r(read), w(write), a(append)\n",
    "f = open('agencies.txt', 'r')\n",
    "# Read all the content to a list\n",
    "lines= f.readlines()\n",
    "for li in lines:\n",
    "    print(li.strip())  #strip loai bo ki tu \n",
    "    \n",
    "f.close()\n"
   ]
  },
  {
   "cell_type": "code",
   "execution_count": null,
   "metadata": {},
   "outputs": [],
   "source": [
    "# Read authors.txt print name & email\n",
    "\n",
    "f = open('authors.txt','r')\n",
    "#Skip 3 frist lines\n",
    "for _ in range(3):\n",
    "    next(f)\n",
    "# TODO: split line to get name & email\n",
    "for line in f:\n",
    "    name, email = line.split('<')\n",
    "    name= name.strip()+\":\"\n",
    "    email = email.strip()[:-1]\n",
    "    print(f'{name:25}{email:25}')\n",
    "f.close()\n"
   ]
  },
  {
   "cell_type": "code",
   "execution_count": 1,
   "metadata": {},
   "outputs": [
    {
     "name": "stdout",
     "output_type": "stream",
     "text": [
      "[[  0.    0.  180.    3.5]\n",
      " [  1.    0.5 185.    4.5]\n",
      " [  2.    0.7 192.    5.2]]\n"
     ]
    }
   ],
   "source": [
    "import numpy as np\n",
    "data = np.loadtxt('falling.txt', skiprows=5)\n",
    "print(data)\n"
   ]
  },
  {
   "cell_type": "code",
   "execution_count": 2,
   "metadata": {},
   "outputs": [
    {
     "name": "stdout",
     "output_type": "stream",
     "text": [
      "[0.  0.5 0.7]\n",
      "[180. 185. 192.]\n"
     ]
    }
   ],
   "source": [
    "times = data[:, 1]\n",
    "print(times)\n",
    "hegights = data[:, 2]\n",
    "print(hegights)\n"
   ]
  },
  {
   "cell_type": "code",
   "execution_count": 4,
   "metadata": {},
   "outputs": [
    {
     "name": "stdout",
     "output_type": "stream",
     "text": [
      "[0.  0.5 0.7]\n",
      "[180. 185. 192.]\n"
     ]
    }
   ],
   "source": [
    "times, hegights = np.loadtxt('falling.txt', skiprows=5, usecols=(1, 2), unpack=True)\n",
    "print(times)\n",
    "print(hegights)"
   ]
  },
  {
   "cell_type": "code",
   "execution_count": null,
   "metadata": {},
   "outputs": [],
   "source": [
    "student_data= np.loadtxt('gradebook.csv',delimiter=',',skiprows=1,dtype=str)\n",
    "print(student_data)"
   ]
  },
  {
   "cell_type": "code",
   "execution_count": 22,
   "metadata": {},
   "outputs": [
    {
     "name": "stdout",
     "output_type": "stream",
     "text": [
      "GCH22000  Nguyen Minh Tuan    10        \n",
      "GCH22000  Nguyen Minh Tuan    10        \n",
      "GCH22000  Nguyen Minh Tuan    10        \n",
      "GCH22000  Nguyen Minh Tuan    10        \n",
      "GCH22000  Nguyen Minh Tuan    10        \n",
      "GCH22000  Nguyen Minh Tuan    10        \n",
      "GCH22000  Nguyen Minh Tuan    10        \n"
     ]
    }
   ],
   "source": [
    "# clear student_data\n",
    "for student in student_data:\n",
    "    if student[4] == '':\n",
    "        student[4] = '0'\n",
    "    if float(student[4]) > 10:\n",
    "        student[4] = '10'\n",
    "    if student[2] == '':\n",
    "        student[2] = 'GCH22000'\n",
    "\n",
    "# Print student data\n",
    "#for student in student_data:\n",
    "#    if float(student[4]) >=6.5:\n",
    "#        print(f'{student[2]:10}{student[3]:20}{student[4]:10}')\n",
    "\n",
    "pass_students =[['Login', 'Email','Code','Name','Grade']]\n",
    "pass_students += [student for student in student_data if float(student[4])>=6.5]\n",
    "for st in pass_students:\n",
    "    print(f'{student[2]:10}{student[3]:20}{student[4]:10}')\n",
    "\n",
    "#Write to file\n",
    "np.savetxt('pass_student.csv',pass_students,delimiter=',',fmt='%s')"
   ]
  },
  {
   "cell_type": "code",
   "execution_count": 25,
   "metadata": {},
   "outputs": [
    {
     "name": "stdout",
     "output_type": "stream",
     "text": [
      "GBH17538  Le Minh Huong       6.5       \n",
      "GCH16336  Nguyen The Dat      6.5       \n",
      "GCH16388  Pham Minh Thang     9.5       \n",
      "GCH16573  Do Duy Tung         6.5       \n",
      "GCH16603  Nguyen Thanh Thang  8.0       \n",
      "GCH22000  Nguyen Minh Tuan    10        \n",
      "Done\n"
     ]
    }
   ],
   "source": [
    "codes, names, grades = np.loadtxt('gradebook.csv', delimiter=',', skiprows=1,\n",
    "                                  usecols=(2, 3, 4), dtype=str, unpack=True)\n",
    "for i in range(len(codes)):\n",
    "    if grades[i] == '':\n",
    "        grades[i] = '0'\n",
    "    if codes[i] == '':\n",
    "        codes[i] = 'GCH22000'\n",
    "    if float(grades[i]) > 10:\n",
    "        grades[i] = '10'\n",
    "for i in range(len(codes)):\n",
    "    if float(grades[i]) >= 6.5:\n",
    "        print(f'{codes[i]:10}{names[i]:20}{grades[i]:10}')\n",
    "header='Code,Name,Grade'\n",
    "np.savetxt('clean_gradebook.csv',np.column_stack((codes,names,grades)),delimiter=',',fmt='%s',header='Code,Name,Grade')\n",
    "\n",
    "print('Done')"
   ]
  },
  {
   "cell_type": "code",
   "execution_count": 19,
   "metadata": {},
   "outputs": [
    {
     "name": "stdout",
     "output_type": "stream",
     "text": [
      "The Triboro Bridge and Tunnel Authority\n",
      "The Metropolitan Transit Authority\n",
      "The Port Authority of New York and New Jersey\n"
     ]
    }
   ],
   "source": [
    "f = open('agencies.txt','r')\n",
    "fw = open('agencies_authority.txt','w') # Mở một file để ghi\n",
    "# read content line by line\n",
    "for line in f:\n",
    "    if 'authority' in line.lower():\n",
    "        print(line.strip())\n",
    "        fw.write(line) # thực hiện ghi\n",
    "    \n",
    "f.close()\n",
    "fw.close() # Đóng File"
   ]
  },
  {
   "cell_type": "code",
   "execution_count": 28,
   "metadata": {},
   "outputs": [
    {
     "name": "stdout",
     "output_type": "stream",
     "text": [
      "Done\n"
     ]
    }
   ],
   "source": [
    "import csv\n",
    "with open('gradebook.csv','r') as f:\n",
    "    reader = csv.reader(f)\n",
    "    fw=open('fail_student.csv','w')\n",
    "    writer= csv.writer(fw)\n",
    "    writer.writerow(next(reader))       #writer header\n",
    "    for row in reader:\n",
    "        if row[4] == '':\n",
    "            row[4] = '0'\n",
    "        if row[2] == '':\n",
    "            row[2] = 'GCH22000'\n",
    "        if float(row[4]) > 10:\n",
    "            row[4] = '10'\n",
    "        if float(row[4]) < 6.5:\n",
    "            writer.writerow(row)\n",
    "    fw.close()\n",
    "print('Done')\n"
   ]
  },
  {
   "cell_type": "code",
   "execution_count": 42,
   "metadata": {},
   "outputs": [
    {
     "name": "stdout",
     "output_type": "stream",
     "text": [
      "Clean data pizza succefully\n"
     ]
    }
   ],
   "source": [
    "#encoding='utf-8' format chữ and kí tự\n",
    "#Clean pizza_data.csv\n",
    "#Remove rows that have empty menus.amountMax, menus.amountMin\n",
    "#Remove rows that have empty priceRangeMax, priceRangeMin ->set to 0\n",
    "with open('pizza_data.csv','r') as f:\n",
    "    reader= csv.reader(f)\n",
    "    header= next(reader)\n",
    "    del header[0]\n",
    "    del header[7]    \n",
    "    fw=open('clean_pizza_data.csv','w')\n",
    "    writer= csv.writer(fw)\n",
    "    writer.writerow(header)\n",
    "    for row in reader:\n",
    "        if row[9] =='':\n",
    "            continue\n",
    "        if row[10] =='':\n",
    "            continue\n",
    "        if row[18] == '':\n",
    "            row[18] = '0'\n",
    "        if row[19] =='':\n",
    "            row[19]='0'\n",
    "        row[2] = row[2].split(',')[0]\n",
    "        del row[0]\n",
    "        del row[7]\n",
    "        writer.writerow(row)\n",
    "    fw.close()\n",
    "print('Clean data pizza succefully')\n",
    "#Remove id column, url column"
   ]
  }
 ],
 "metadata": {
  "kernelspec": {
   "display_name": "Python 3",
   "language": "python",
   "name": "python3"
  },
  "language_info": {
   "codemirror_mode": {
    "name": "ipython",
    "version": 3
   },
   "file_extension": ".py",
   "mimetype": "text/x-python",
   "name": "python",
   "nbconvert_exporter": "python",
   "pygments_lexer": "ipython3",
   "version": "3.11.1"
  },
  "orig_nbformat": 4,
  "vscode": {
   "interpreter": {
    "hash": "5238573367df39f7286bb46f9ff5f08f63a01a80960060ce41e3c79b190280fa"
   }
  }
 },
 "nbformat": 4,
 "nbformat_minor": 2
}
