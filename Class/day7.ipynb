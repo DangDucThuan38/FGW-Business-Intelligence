{
 "cells": [
  {
   "cell_type": "code",
   "execution_count": 1,
   "metadata": {},
   "outputs": [],
   "source": [
    "def add(a,b):\n",
    "    return a+b"
   ]
  },
  {
   "cell_type": "code",
   "execution_count": 4,
   "metadata": {},
   "outputs": [
    {
     "name": "stdout",
     "output_type": "stream",
     "text": [
      "3\n",
      "OK Con de\n",
      "[1, 2, 2, 3]\n",
      "4.0\n"
     ]
    }
   ],
   "source": [
    "print(add(1,2)) # pass integers\n",
    "print(add('OK ','Con de')) # pass string\n",
    "print(add([1,2],[2,3])) # pass lists\n",
    "print(add(1.5,2.5)) # pass floats"
   ]
  },
  {
   "cell_type": "code",
   "execution_count": 5,
   "metadata": {},
   "outputs": [
    {
     "ename": "TypeError",
     "evalue": "can only concatenate str (not \"int\") to str",
     "output_type": "error",
     "traceback": [
      "\u001b[1;31m---------------------------------------------------------------------------\u001b[0m",
      "\u001b[1;31mTypeError\u001b[0m                                 Traceback (most recent call last)",
      "Cell \u001b[1;32mIn[5], line 1\u001b[0m\n\u001b[1;32m----> 1\u001b[0m \u001b[39mprint\u001b[39m(add(\u001b[39m'\u001b[39;49m\u001b[39m1\u001b[39;49m\u001b[39m'\u001b[39;49m,\u001b[39m2\u001b[39;49m))\u001b[39m# Error\u001b[39;00m\n",
      "Cell \u001b[1;32mIn[1], line 2\u001b[0m, in \u001b[0;36madd\u001b[1;34m(a, b)\u001b[0m\n\u001b[0;32m      1\u001b[0m \u001b[39mdef\u001b[39;00m \u001b[39madd\u001b[39m(a,b):\n\u001b[1;32m----> 2\u001b[0m     \u001b[39mreturn\u001b[39;00m a\u001b[39m+\u001b[39;49mb\n",
      "\u001b[1;31mTypeError\u001b[0m: can only concatenate str (not \"int\") to str"
     ]
    }
   ],
   "source": [
    "print(add('1',2))# Error"
   ]
  },
  {
   "cell_type": "code",
   "execution_count": 8,
   "metadata": {},
   "outputs": [],
   "source": [
    "def swap(a, b):\n",
    "    t = a\n",
    "    a = b\n",
    "    b = t\n",
    "    # (a,b=b,a)\n",
    "    print(f'Inside swap: a = {a}, b = {b}')\n"
   ]
  },
  {
   "cell_type": "code",
   "execution_count": 9,
   "metadata": {},
   "outputs": [
    {
     "name": "stdout",
     "output_type": "stream",
     "text": [
      "Inside swap: a = 20, b = 10\n",
      "Outside swap: a = 10, b = 20\n"
     ]
    }
   ],
   "source": [
    "a, b = 10, 20\n",
    "swap(a, b)\n",
    "print(f'Outside swap: a = {a}, b = {b}')\n"
   ]
  },
  {
   "cell_type": "code",
   "execution_count": 10,
   "metadata": {},
   "outputs": [],
   "source": [
    "def swap_list(a,b):\n",
    "    n=len(a)\n",
    "    for i in range(n):\n",
    "        a[i],b[i]=b[i],a[i]\n",
    "    print(f'Inside swap_list: a = {a}, b = {b}')"
   ]
  },
  {
   "cell_type": "code",
   "execution_count": 11,
   "metadata": {},
   "outputs": [
    {
     "name": "stdout",
     "output_type": "stream",
     "text": [
      "Inside swap_list: a = [4, 5, 6], b = [1, 2, 3]\n",
      "Outside swap_list : a = [4, 5, 6],b = [1, 2, 3]\n"
     ]
    }
   ],
   "source": [
    "a = [1, 2, 3]\n",
    "b = [4, 5, 6]\n",
    "swap_list(a, b)\n",
    "print(f'Outside swap_list : a = {a},b = {b}')\n",
    "#Tham chieu\n",
    "#Same string, list,array,dic...\n"
   ]
  },
  {
   "cell_type": "code",
   "execution_count": 12,
   "metadata": {},
   "outputs": [],
   "source": [
    "def double_array(a):\n",
    "    a = a*2\n",
    "    print(f'Inside double_array: a={a}')"
   ]
  },
  {
   "cell_type": "code",
   "execution_count": 14,
   "metadata": {},
   "outputs": [
    {
     "name": "stdout",
     "output_type": "stream",
     "text": [
      "Inside double_array: a=[2 4 6]\n",
      "Outside double_array: a = [1 2 3]\n"
     ]
    }
   ],
   "source": [
    "import numpy as np\n",
    "a = np.array([1,2,3])\n",
    "double_array(a)\n",
    "print(f'Outside double_array: a = {a}')"
   ]
  },
  {
   "cell_type": "code",
   "execution_count": 15,
   "metadata": {},
   "outputs": [
    {
     "name": "stdout",
     "output_type": "stream",
     "text": [
      "a:b-----"
     ]
    }
   ],
   "source": [
    "print('a','b',sep=':',end='-----') #key word agrument"
   ]
  },
  {
   "cell_type": "code",
   "execution_count": 18,
   "metadata": {},
   "outputs": [],
   "source": [
    "def my_func(a,b,n =10, s='hello'):\n",
    "    print(a,b,n,s,sep=' | ')"
   ]
  },
  {
   "cell_type": "code",
   "execution_count": 20,
   "metadata": {},
   "outputs": [
    {
     "name": "stdout",
     "output_type": "stream",
     "text": [
      "5.5 | 6.6 | 10 | hello\n",
      "5.5 | 6.6 | hello | 10\n"
     ]
    }
   ],
   "source": [
    "my_func(5.5,6.6)\n",
    "my_func(5.5,6.6,'hello',10)"
   ]
  },
  {
   "cell_type": "code",
   "execution_count": 21,
   "metadata": {},
   "outputs": [],
   "source": [
    "def my_sum(*items):\n",
    "    s =0\n",
    "    for i in items:\n",
    "        s+=i\n",
    "    return s"
   ]
  },
  {
   "cell_type": "code",
   "execution_count": 22,
   "metadata": {},
   "outputs": [],
   "source": [
    "def my_other_sum(items):\n",
    "    s =0\n",
    "    for i in items:\n",
    "        s+=i\n",
    "    return s"
   ]
  },
  {
   "cell_type": "code",
   "execution_count": 26,
   "metadata": {},
   "outputs": [
    {
     "name": "stdout",
     "output_type": "stream",
     "text": [
      "15\n",
      "0\n",
      "15\n"
     ]
    }
   ],
   "source": [
    "s= my_sum(1,2,3,4,5)\n",
    "print(s)\n",
    "s= my_sum()\n",
    "print(s)\n",
    "s = my_other_sum([1,2,3,4,5])\n",
    "print(s)\n",
    "\n",
    "s = my_other_sum(1,2,3,4,5) #Eror\n",
    "print(s)"
   ]
  },
  {
   "cell_type": "code",
   "execution_count": 27,
   "metadata": {},
   "outputs": [],
   "source": [
    "def min_max(*items):\n",
    "    mi = ma = items[0]\n",
    "    for i in items:\n",
    "        if i < mi:\n",
    "            mi = i\n",
    "        if i > ma:\n",
    "            ma = i\n",
    "    return mi, ma\n"
   ]
  },
  {
   "cell_type": "code",
   "execution_count": 32,
   "metadata": {},
   "outputs": [
    {
     "name": "stdout",
     "output_type": "stream",
     "text": [
      "Min = 1, Max = 5\n",
      "1\n",
      "5\n",
      "(1, 5)\n"
     ]
    }
   ],
   "source": [
    "# call mi_max, store the results in 2 variable\n",
    "a,b=min_max(3,4,1,2,5)\n",
    "print(f'Min = {a}, Max = {b}')\n",
    "# Call min_max, store the result in a single variable\n",
    "a,_= min_max(3,4,1,2,5)\n",
    "print(a)\n",
    "# Call min_max, store the result in a single variable\n",
    "_, b= min_max(3,4,1,2,5)\n",
    "print(b)\n",
    "\n",
    "c = min_max(3,4,1,2,5)\n",
    "print(c)\n"
   ]
  },
  {
   "cell_type": "code",
   "execution_count": 33,
   "metadata": {},
   "outputs": [],
   "source": [
    "def greater(x, y):\n",
    "    return x > y\n",
    "\n",
    "def my_sort(items, compare= greater):\n",
    "    for i in range(len(items)-1):\n",
    "        for j in range(i+1, len(items)):\n",
    "            if compare(items[i], items[j]):\n",
    "                items[i],items[j]=items[j],items[i]"
   ]
  },
  {
   "cell_type": "code",
   "execution_count": 35,
   "metadata": {},
   "outputs": [
    {
     "name": "stdout",
     "output_type": "stream",
     "text": [
      "[84, 23, 67, 14, 99, 36, 24, 85, 41, 39]\n",
      "[14, 23, 24, 36, 39, 41, 67, 84, 85, 99]\n"
     ]
    }
   ],
   "source": [
    "import random as rd\n",
    "numbers =[rd.randint(1,100) for _ in range(10)]\n",
    "print(numbers)\n",
    "my_sort(numbers)\n",
    "print(numbers)"
   ]
  },
  {
   "cell_type": "code",
   "execution_count": 37,
   "metadata": {},
   "outputs": [
    {
     "name": "stdout",
     "output_type": "stream",
     "text": [
      "[14, 23, 24, 36, 39, 41, 67, 84, 85, 99]\n",
      "[99, 85, 84, 67, 41, 39, 36, 24, 23, 14]\n"
     ]
    }
   ],
   "source": [
    "def less (x,y):\n",
    "    return x<y\n",
    "print(numbers)\n",
    "my_sort(numbers,less)\n",
    "print(numbers)"
   ]
  },
  {
   "cell_type": "code",
   "execution_count": 38,
   "metadata": {},
   "outputs": [
    {
     "name": "stdout",
     "output_type": "stream",
     "text": [
      "[41, 23, 24, 84, 14, 85, 36, 67, 99, 39]\n"
     ]
    }
   ],
   "source": [
    "def greater_last_digit(x, y):\n",
    "    return x % 10 > y % 10\n",
    "\n",
    "my_sort(numbers, greater_last_digit)\n",
    "print(numbers)\n"
   ]
  },
  {
   "cell_type": "code",
   "execution_count": 44,
   "metadata": {},
   "outputs": [
    {
     "name": "stdout",
     "output_type": "stream",
     "text": [
      "['Harry Magure', 'John Muler', 'Messi Leo', 'Ronaldo Cristiano']\n",
      "['Messi Leo', 'John Muler', 'Harry Magure', 'Ronaldo Cristiano']\n"
     ]
    }
   ],
   "source": [
    "def greater_len(x,y):\n",
    "    return len(x)>len(y)\n",
    "names=['John Muler','Ronaldo Cristiano','Messi Leo','Harry Magure']\n",
    "my_sort(names)\n",
    "print(names)\n",
    "my_sort(names,greater_len)\n",
    "print(names)"
   ]
  },
  {
   "cell_type": "code",
   "execution_count": 45,
   "metadata": {},
   "outputs": [
    {
     "name": "stdout",
     "output_type": "stream",
     "text": [
      "['John Muler', 'Messi Leo', 'Harry Magure', 'Ronaldo Cristiano']\n",
      "['Ronaldo Cristiano', 'Messi Leo', 'Harry Magure', 'John Muler']\n"
     ]
    }
   ],
   "source": [
    "# Sort names by number of vowels\n",
    "\n",
    "def greater_number_vowels(x, y):\n",
    "    # a = 0\n",
    "    # for a in names:\n",
    "    #    if a in 'aeiou':\n",
    "    #        a += 1\n",
    "    # b = 0\n",
    "    # for b in names:\n",
    "    #    if b in 'aeiou':\n",
    "    #        b += 1\n",
    "    # return a > b\n",
    "\n",
    "    return len([c for c in x if c in 'aeiou']) > len([c for c in y if c in 'aeiou'])\n",
    "\n",
    "\n",
    "my_sort(names, greater_number_vowels)\n",
    "print(names)\n",
    "\n",
    "# Sort names by last name\n",
    "\n",
    "\n",
    "def greater_last_name(x, y):\n",
    "    return x.split()[-1] > y.split()[-1]\n",
    "my_sort(names,greater_last_name)\n",
    "print(names)\n"
   ]
  }
 ],
 "metadata": {
  "kernelspec": {
   "display_name": "Python 3",
   "language": "python",
   "name": "python3"
  },
  "language_info": {
   "codemirror_mode": {
    "name": "ipython",
    "version": 3
   },
   "file_extension": ".py",
   "mimetype": "text/x-python",
   "name": "python",
   "nbconvert_exporter": "python",
   "pygments_lexer": "ipython3",
   "version": "3.11.1"
  },
  "orig_nbformat": 4,
  "vscode": {
   "interpreter": {
    "hash": "5238573367df39f7286bb46f9ff5f08f63a01a80960060ce41e3c79b190280fa"
   }
  }
 },
 "nbformat": 4,
 "nbformat_minor": 2
}
