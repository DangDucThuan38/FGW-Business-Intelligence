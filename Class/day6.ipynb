{
 "cells": [
  {
   "cell_type": "code",
   "execution_count": 1,
   "metadata": {},
   "outputs": [
    {
     "name": "stdout",
     "output_type": "stream",
     "text": [
      "0 1 2 3 4 5 6 7 8 9 "
     ]
    }
   ],
   "source": [
    "# Vòng lặp for loop\n",
    "# General syntax: for <variable in <iterable>\n",
    "\n",
    "for i in range(10):  # ~ for( int i=0;i<10;i++)\n",
    "    print(i, end=' ')\n"
   ]
  },
  {
   "cell_type": "code",
   "execution_count": 2,
   "metadata": {},
   "outputs": [
    {
     "name": "stdout",
     "output_type": "stream",
     "text": [
      "a[0] = 1\n",
      "a[1] = 2\n",
      "a[2] = 3\n",
      "a[3] = 4\n",
      "a[4] = 5\n"
     ]
    }
   ],
   "source": [
    "a = [1, 2, 3, 4, 5]\n",
    "for i in range(len(a)):\n",
    "    print(f'a[{i}] = {a[i]}')\n"
   ]
  },
  {
   "cell_type": "code",
   "execution_count": 3,
   "metadata": {},
   "outputs": [
    {
     "name": "stdout",
     "output_type": "stream",
     "text": [
      "1\n",
      "2\n",
      "3\n",
      "4\n",
      "5\n"
     ]
    }
   ],
   "source": [
    "for n in a:  # = foreach(int n in a)\n",
    "    print(n)\n"
   ]
  },
  {
   "cell_type": "code",
   "execution_count": 4,
   "metadata": {},
   "outputs": [
    {
     "name": "stdout",
     "output_type": "stream",
     "text": [
      "0: H\n",
      "1: e\n",
      "2: l\n",
      "3: l\n",
      "4: l\n",
      "5: o\n",
      "6:  \n",
      "7: W\n",
      "8: o\n",
      "9: r\n",
      "10: l\n",
      "11: d\n"
     ]
    }
   ],
   "source": [
    "s = 'Helllo World'\n",
    "for i, c in enumerate(s):  # best of both world\n",
    "    print(f'{i}: {c}')\n"
   ]
  },
  {
   "cell_type": "code",
   "execution_count": 7,
   "metadata": {},
   "outputs": [
    {
     "name": "stdout",
     "output_type": "stream",
     "text": [
      "Guest Emma is in room 308\n",
      "Guest John is in room 123\n",
      "Guest Marry is in room 432\n",
      "------------------------------\n",
      "Emma is in room 308\n",
      "John is in room 123\n",
      "Marry is in room 432\n"
     ]
    }
   ],
   "source": [
    "rooms = {'Emma': 308, 'John': 123, 'Marry': 432}\n",
    "for guest in rooms:\n",
    "    print(f'Guest {guest} is in room {rooms[guest]}')\n",
    "\n",
    "print(f'------------------------------')\n",
    "for guest, room_no in rooms.items():\n",
    "    print(f'{guest} is in room {room_no}')\n"
   ]
  },
  {
   "cell_type": "code",
   "execution_count": 12,
   "metadata": {},
   "outputs": [
    {
     "name": "stdout",
     "output_type": "stream",
     "text": [
      "Distinction students:\n",
      "Emma gpa is 9.1\n",
      "John gpa is 8.2\n",
      "Jack gpa is 9.8\n",
      "-----------------------------\n",
      "Merit Students: \n",
      "Marry gpa is 6.7 \n",
      "-----------------------------\n",
      "Pass student: \n",
      "Peter gpa is 5.4 \n",
      "Tom gpa is 4.1 \n",
      "Alice gpa is 5.2 \n",
      "-----------------------------\n",
      "Failed Students: \n",
      "Bob gpa is 3.5 \n",
      "------------------------------------------\n",
      "Number of D student:3 \n",
      "Number of M student:1 \n",
      "Number of P student:3 \n",
      "Number of F student:1 \n"
     ]
    }
   ],
   "source": [
    "students = {'Emma': 9.1, 'John': 8.2, 'Marry': 6.7, 'Peter': 5.4,\n",
    "            'Tom': 4.1, 'Jack': 9.8, 'Bob': 3.5, 'Alice': 5.2}\n",
    "n_distinction = 0\n",
    "print('Distinction students:')\n",
    "for st, gpa in students.items():\n",
    "    if gpa > 8.0:\n",
    "        n_distinction += 1\n",
    "        print(f'{st} gpa is {gpa}')\n",
    "\n",
    "\n",
    "print('-----------------------------')\n",
    "n_merit = 0\n",
    "print('Merit Students: ')\n",
    "for st, gpa in students.items():\n",
    "    if gpa > 6.5 and gpa <= 8.0:  # (6.5<=gpa<=8.0)\n",
    "        n_merit += 1\n",
    "        print(f'{st} gpa is {gpa} ')\n",
    "\n",
    "print('-----------------------------')\n",
    "print('Pass student: ')\n",
    "n_pass = 0\n",
    "for st, gpa in students.items():\n",
    "    if gpa >= 4.0 and gpa <= 6.5:\n",
    "        n_pass += 1\n",
    "        print(f'{st} gpa is {gpa} ')\n",
    "\n",
    "print('-----------------------------')\n",
    "n_failed = 0\n",
    "print('Failed Students: ')\n",
    "for st, gpa in students.items():\n",
    "    if gpa < 4.0:\n",
    "        n_failed += 1\n",
    "        print(f'{st} gpa is {gpa} ')\n",
    "\n",
    "\n",
    "print('------------------------------------------')\n",
    "print(f'Number of D student:{n_distinction} ')\n",
    "print(f'Number of M student:{n_merit} ')\n",
    "print(f'Number of P student:{n_pass} ')\n",
    "print(f'Number of F student:{n_failed} ')\n"
   ]
  },
  {
   "cell_type": "code",
   "execution_count": null,
   "metadata": {},
   "outputs": [],
   "source": [
    "# List comprehension: Generate 1 list based on another list\n",
    "# syntax:[x for y in z]\n",
    "# syntax:[x for y in z if condition]\n",
    "\n"
   ]
  },
  {
   "cell_type": "code",
   "execution_count": 13,
   "metadata": {},
   "outputs": [
    {
     "name": "stdout",
     "output_type": "stream",
     "text": [
      "['J', 'P', 'G', 'R']\n",
      "[4, 4, 6, 5]\n"
     ]
    }
   ],
   "source": [
    "names = ['John', 'Paul', 'George', 'Ringo']\n",
    "\n",
    "initials = [n[0] for n in names]\n",
    "print(initials)\n",
    "lengths = [len(n) for n in names]\n",
    "print(lengths)\n"
   ]
  },
  {
   "cell_type": "code",
   "execution_count": 20,
   "metadata": {},
   "outputs": [
    {
     "name": "stdout",
     "output_type": "stream",
     "text": [
      "[42, -91, 82, 72, 14, 83, -94, 67, -4, 21]\n",
      "[42, 82, 72, 14, 83, 67, 21]\n",
      "[-91, -94, -4]\n"
     ]
    }
   ],
   "source": [
    "import random as rd\n",
    "numbers = [rd.randint(-100, 100) for _ in range(10)]\n",
    "print(numbers)\n",
    "positives = [n for n in numbers if n > 0]\n",
    "print(positives)\n",
    "negatives = [n for n in numbers if n < 0]\n",
    "print(negatives)\n"
   ]
  },
  {
   "cell_type": "code",
   "execution_count": 21,
   "metadata": {},
   "outputs": [
    {
     "name": "stdout",
     "output_type": "stream",
     "text": [
      "[42, 82, 72, 14, 0, 0]\n"
     ]
    }
   ],
   "source": [
    "# Convert items of a list\n",
    "new_number = [n if n > 0 else 0 for n in numbers if n % 2 == 0]\n",
    "print(new_number)\n"
   ]
  },
  {
   "cell_type": "code",
   "execution_count": 33,
   "metadata": {},
   "outputs": [
    {
     "name": "stdout",
     "output_type": "stream",
     "text": [
      "[7, 33, 21, 42, 3, 52, 19, 29, 42, 98, 12, 88, 73, 36, 68, 99, 35, 69, 86, 96]\n",
      "Elements greater than 50:\n",
      "[52, 98, 88, 73, 68, 99, 69, 86, 96]\n",
      "[76, 98, 78, 46, 2, 88, 10, 86, 8, 22, 48, 44, 86, 59, 75, 59, 75, 13, 21, 87]\n",
      "----------------------------------------\n",
      "[7, 33, 21, 3, 19, 29, 73, 99, 35, 69]\n",
      "---------------------------------------\n",
      "[42, 52, 42, 98, 12, 88, 36, 68, 86, 96, 7, 33, 21, 3, 19, 29, 73, 99, 35, 69]\n",
      "[7, 21, 3, 19, 42, 12, 73, 68, 35, 86]\n",
      "[7, 21, 3, 19, 42, 12, 73, 68, 35, 86]\n"
     ]
    }
   ],
   "source": [
    "numbers = [rd.randint(0, 100) for _ in range(20)]\n",
    "print(numbers)\n",
    "# a Find elements that are greater than 50\n",
    "a = [n for n in numbers if n > 50]\n",
    "print('Elements greater than 50:')\n",
    "print(a)\n",
    "\n",
    "# b Find elements that are greater than mean of list\n",
    "#print('Elements that are greater than mean of list')\n",
    "#average = sum(numbers) / len(numbers)\n",
    "#print(average)\n",
    "#big50s =[n for n in numbers if n > average]\n",
    "#print(big50s)\n",
    "\n",
    "# c Create a list of even numbers from that list\n",
    "even_number = [n  for n in numbers if n % 2 == 0]\n",
    "print(new_number)\n",
    "# d Re-arrange the list so that 1st half contains only even numbers and 2nd half contains only odd numbers\n",
    "\n",
    "print('----------------------------------------')\n",
    "odd_number =[n  for n in numbers if n % 2 == 1]\n",
    "print(odd_number)\n",
    "print('---------------------------------------')\n",
    "new_number = even_number + odd_number\n",
    "print(new_number)\n",
    "\n",
    "# Create a list of even index numbers from that list, a list of odd index numbers from that list\n",
    "\n",
    "even_index = numbers[::2]\n",
    "print(even_index)\n",
    "even_index = [numbers[i] for i in range(0, len(numbers), 2)]\n",
    "print(even_index)\n"
   ]
  },
  {
   "cell_type": "code",
   "execution_count": 44,
   "metadata": {},
   "outputs": [
    {
     "name": "stdout",
     "output_type": "stream",
     "text": [
      "Distintions Students:  [('Emma', 9.1), ('John', 8.2), ('Jack', 9.8)]\n",
      "Merrit Students:  [('Marry', 6.7)]\n",
      "Pass Students:  [('Peter', 5.4), ('Tom', 4.1), ('Alice', 5.2)]\n",
      "Fail Students:  [('Bob', 3.5)]\n",
      "Number of D: 3\n",
      "Number of M: 1\n",
      "Number of P: 3\n",
      "Number of F: 1\n"
     ]
    }
   ],
   "source": [
    "students = {'Emma': 9.1, 'John': 8.2, 'Marry': 6.7, 'Peter': 5.4,\n",
    "            'Tom': 4.1, 'Jack': 9.8, 'Bob': 3.5, 'Alice': 5.2}\n",
    "# for st, gpa in students.items():\n",
    "disnction = [(st, gpa) for st, gpa in students.items() if gpa > 8.0]\n",
    "print('Distintions Students: ', disnction)\n",
    "\n",
    "merrit = [(st, gpa) for st, gpa in students.items() if 6.5 <= gpa <= 8.0]\n",
    "print('Merrit Students: ', merrit)\n",
    "passe = [(st, gpa) for st, gpa in students.items() if 4.0 <= gpa <= 6.5]\n",
    "print('Pass Students: ', passe)\n",
    "failed = [(st, gpa) for st, gpa in students.items() if gpa < 4.0]\n",
    "print('Fail Students: ', failed)\n",
    "\n",
    "print(f'Number of D: {len(disnction)}')\n",
    "print(f'Number of M: {len(merrit)}')\n",
    "print(f'Number of P: {len(passe)}')\n",
    "print(f'Number of F: {len(failed)}')\n",
    "\n"
   ]
  }
 ],
 "metadata": {
  "kernelspec": {
   "display_name": "Python 3",
   "language": "python",
   "name": "python3"
  },
  "language_info": {
   "codemirror_mode": {
    "name": "ipython",
    "version": 3
   },
   "file_extension": ".py",
   "mimetype": "text/x-python",
   "name": "python",
   "nbconvert_exporter": "python",
   "pygments_lexer": "ipython3",
   "version": "3.11.1"
  },
  "orig_nbformat": 4,
  "vscode": {
   "interpreter": {
    "hash": "5238573367df39f7286bb46f9ff5f08f63a01a80960060ce41e3c79b190280fa"
   }
  }
 },
 "nbformat": 4,
 "nbformat_minor": 2
}
