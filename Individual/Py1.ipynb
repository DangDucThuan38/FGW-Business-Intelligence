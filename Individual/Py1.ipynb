{
 "cells": [
  {
   "cell_type": "code",
   "execution_count": 4,
   "metadata": {},
   "outputs": [
    {
     "name": "stdout",
     "output_type": "stream",
     "text": [
      "Hello Python\n"
     ]
    }
   ],
   "source": [
    "# In cơ bản\n",
    "print(\"Hello Python\")"
   ]
  },
  {
   "cell_type": "code",
   "execution_count": 5,
   "metadata": {},
   "outputs": [
    {
     "name": "stdout",
     "output_type": "stream",
     "text": [
      "<class 'int'>\n",
      "<class 'str'>\n"
     ]
    }
   ],
   "source": [
    "#Variable\n",
    "x = 5\n",
    "y = \"John\"\n",
    "print(type(x))\n",
    "print(type(y))\n",
    "#(type(x) and type(y)) là in kiểu dữ liệu của biến"
   ]
  },
  {
   "cell_type": "code",
   "execution_count": 7,
   "metadata": {},
   "outputs": [
    {
     "name": "stdout",
     "output_type": "stream",
     "text": [
      "Name: Dang Duc Thuan\n",
      "Age :20\n"
     ]
    }
   ],
   "source": [
    "#Nhập liệu từ bàn phím\n",
    "a=input(\"Enter Name: \")\n",
    "b=input(\"Enter Age: \")\n",
    "print(\"Name: \"+a)\n",
    "print(\"Age :\"+b)"
   ]
  },
  {
   "cell_type": "code",
   "execution_count": 10,
   "metadata": {},
   "outputs": [
    {
     "name": "stdout",
     "output_type": "stream",
     "text": [
      "Merit\n"
     ]
    }
   ],
   "source": [
    "# If else\n",
    "\n",
    "a = int(input(\"Enter Garde Math: \"))\n",
    "b = int(input(\"Enter Garde English: \"))\n",
    "avg = (a+b)/2\n",
    "if avg >= 8:\n",
    "    print(\"Very Good\")\n",
    "elif avg >= 6.5:\n",
    "    print(\"Merit\")\n",
    "elif avg >= 5.0:\n",
    "    print(\"Pass\")\n",
    "else:\n",
    "    print(\"Fail\")"
   ]
  },
  {
   "cell_type": "code",
   "execution_count": 11,
   "metadata": {},
   "outputs": [
    {
     "name": "stdout",
     "output_type": "stream",
     "text": [
      "5 + 6 = 11\n",
      "5 + 6 = 11\n"
     ]
    }
   ],
   "source": [
    "# Python arithmetic operators: +, -, *, /, //, %, **\n",
    "a = int(input('Enter a: '))\n",
    "b = int(input('Enter b: '))\n",
    "print(f'{a} + {b} = {a + b}')\n",
    "print('{} + {} = {}'.format(a, b, a + b))"
   ]
  }
 ],
 "metadata": {
  "kernelspec": {
   "display_name": "Python 3",
   "language": "python",
   "name": "python3"
  },
  "language_info": {
   "codemirror_mode": {
    "name": "ipython",
    "version": 3
   },
   "file_extension": ".py",
   "mimetype": "text/x-python",
   "name": "python",
   "nbconvert_exporter": "python",
   "pygments_lexer": "ipython3",
   "version": "3.11.1"
  },
  "orig_nbformat": 4,
  "vscode": {
   "interpreter": {
    "hash": "5238573367df39f7286bb46f9ff5f08f63a01a80960060ce41e3c79b190280fa"
   }
  }
 },
 "nbformat": 4,
 "nbformat_minor": 2
}
