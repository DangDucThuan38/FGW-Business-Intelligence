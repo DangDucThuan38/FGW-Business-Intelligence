{
 "cells": [
  {
   "cell_type": "code",
   "execution_count": 11,
   "metadata": {},
   "outputs": [
    {
     "name": "stdout",
     "output_type": "stream",
     "text": [
      "Tổng 4 số a,b,c,d là = 25\n",
      "Số Hàng chục là: 2\n",
      "Số hàng đơn vị là:5\n"
     ]
    }
   ],
   "source": [
    "a = int(input('Enter a: '))\n",
    "b = int(input('Enter b: '))\n",
    "c = int(input('Enter c: '))\n",
    "d = int(input('Enter d: '))\n",
    "e = a+b+c+d\n",
    "x = e//10\n",
    "y = e % 10\n",
    "print(f'Tổng 4 số a,b,c,d là = {e}')\n",
    "print(f'Số Hàng chục là: {x}')\n",
    "print(f'Số hàng đơn vị là:{y}')\n"
   ]
  },
  {
   "cell_type": "code",
   "execution_count": 37,
   "metadata": {},
   "outputs": [
    {
     "name": "stdout",
     "output_type": "stream",
     "text": [
      " Số a = 5689\n",
      "Tổng của a là = 28\n",
      "Số đầu tiên của là : 5\n",
      "Số cuối của là: 9\n"
     ]
    }
   ],
   "source": [
    "a = int(input('Enter a: '))\n",
    "print(f' Số a = {a}')\n",
    "sum = 0\n",
    "so_cuoi = a % 10\n",
    "while (a > 0):\n",
    "    sum = sum + a % 10\n",
    "    so_dau = a % 10\n",
    "    a = int(a/10)\n",
    "\n",
    "\n",
    "print(f'Tổng của a là = {sum}')\n",
    "print(f'Số đầu tiên của là : {so_dau}')\n",
    "print(f'Số cuối của là: {so_cuoi}')\n"
   ]
  },
  {
   "cell_type": "code",
   "execution_count": 38,
   "metadata": {},
   "outputs": [
    {
     "name": "stdout",
     "output_type": "stream",
     "text": [
      " Số nguyên có 4 chữ số là :  1234\n",
      "Tổng 4 số là :  10\n",
      "Số đầu tiên là :  1\n",
      "Số cuối cùng là :  4\n"
     ]
    }
   ],
   "source": [
    "a = int(input(\"A :\"));\n",
    "print(\" Số nguyên có 4 chữ số là : \", a);\n",
    "sum = 0;\n",
    "sc = a % 10;\n",
    "while (a > 0):\n",
    "    sum = sum + a % 10;\n",
    "    sd = a % 10;\n",
    "    a = int(a / 10);\n",
    "\n",
    "print(\"Tổng 4 số là : \", sum);\n",
    "print(\"Số đầu tiên là : \", sd);\n",
    "print(\"Số cuối cùng là : \", sc);"
   ]
  }
 ],
 "metadata": {
  "kernelspec": {
   "display_name": "Python 3",
   "language": "python",
   "name": "python3"
  },
  "language_info": {
   "codemirror_mode": {
    "name": "ipython",
    "version": 3
   },
   "file_extension": ".py",
   "mimetype": "text/x-python",
   "name": "python",
   "nbconvert_exporter": "python",
   "pygments_lexer": "ipython3",
   "version": "3.11.1"
  },
  "orig_nbformat": 4,
  "vscode": {
   "interpreter": {
    "hash": "5238573367df39f7286bb46f9ff5f08f63a01a80960060ce41e3c79b190280fa"
   }
  }
 },
 "nbformat": 4,
 "nbformat_minor": 2
}
